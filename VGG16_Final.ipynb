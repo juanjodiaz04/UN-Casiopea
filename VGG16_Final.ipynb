{
  "cells": [
    {
      "cell_type": "markdown",
      "metadata": {
        "id": "p1A9BWsdqSKY"
      },
      "source": [
        "# Impact detection"
      ]
    },
    {
      "cell_type": "code",
      "source": [
        "from google.colab import drive\n",
        "drive.mount('/content/drive')"
      ],
      "metadata": {
        "colab": {
          "base_uri": "https://localhost:8080/"
        },
        "id": "j_oE2UCMrBsJ",
        "outputId": "17878f3e-ad5c-400b-b884-6eaaadf0a775"
      },
      "execution_count": null,
      "outputs": [
        {
          "output_type": "stream",
          "name": "stdout",
          "text": [
            "Drive already mounted at /content/drive; to attempt to forcibly remount, call drive.mount(\"/content/drive\", force_remount=True).\n"
          ]
        }
      ]
    },
    {
      "cell_type": "code",
      "source": [
        "%pip install imutils obspy prettytable"
      ],
      "metadata": {
        "colab": {
          "base_uri": "https://localhost:8080/"
        },
        "id": "TjGpK9fZ84yd",
        "outputId": "170f1b3f-f7d1-4374-a7f8-efe86fd75fd8"
      },
      "execution_count": null,
      "outputs": [
        {
          "output_type": "stream",
          "name": "stdout",
          "text": [
            "Requirement already satisfied: imutils in /usr/local/lib/python3.10/dist-packages (0.5.4)\n",
            "Requirement already satisfied: obspy in /usr/local/lib/python3.10/dist-packages (1.4.1)\n",
            "Requirement already satisfied: prettytable in /usr/local/lib/python3.10/dist-packages (3.11.0)\n",
            "Requirement already satisfied: numpy>=1.20 in /usr/local/lib/python3.10/dist-packages (from obspy) (1.26.4)\n",
            "Requirement already satisfied: scipy>=1.7 in /usr/local/lib/python3.10/dist-packages (from obspy) (1.13.1)\n",
            "Requirement already satisfied: matplotlib>=3.3 in /usr/local/lib/python3.10/dist-packages (from obspy) (3.7.1)\n",
            "Requirement already satisfied: lxml in /usr/local/lib/python3.10/dist-packages (from obspy) (5.3.0)\n",
            "Requirement already satisfied: setuptools in /usr/local/lib/python3.10/dist-packages (from obspy) (71.0.4)\n",
            "Requirement already satisfied: sqlalchemy<2 in /usr/local/lib/python3.10/dist-packages (from obspy) (1.4.54)\n",
            "Requirement already satisfied: decorator in /usr/local/lib/python3.10/dist-packages (from obspy) (5.1.1)\n",
            "Requirement already satisfied: requests in /usr/local/lib/python3.10/dist-packages (from obspy) (2.32.3)\n",
            "Requirement already satisfied: wcwidth in /usr/local/lib/python3.10/dist-packages (from prettytable) (0.2.13)\n",
            "Requirement already satisfied: contourpy>=1.0.1 in /usr/local/lib/python3.10/dist-packages (from matplotlib>=3.3->obspy) (1.3.0)\n",
            "Requirement already satisfied: cycler>=0.10 in /usr/local/lib/python3.10/dist-packages (from matplotlib>=3.3->obspy) (0.12.1)\n",
            "Requirement already satisfied: fonttools>=4.22.0 in /usr/local/lib/python3.10/dist-packages (from matplotlib>=3.3->obspy) (4.54.1)\n",
            "Requirement already satisfied: kiwisolver>=1.0.1 in /usr/local/lib/python3.10/dist-packages (from matplotlib>=3.3->obspy) (1.4.7)\n",
            "Requirement already satisfied: packaging>=20.0 in /usr/local/lib/python3.10/dist-packages (from matplotlib>=3.3->obspy) (24.1)\n",
            "Requirement already satisfied: pillow>=6.2.0 in /usr/local/lib/python3.10/dist-packages (from matplotlib>=3.3->obspy) (10.4.0)\n",
            "Requirement already satisfied: pyparsing>=2.3.1 in /usr/local/lib/python3.10/dist-packages (from matplotlib>=3.3->obspy) (3.1.4)\n",
            "Requirement already satisfied: python-dateutil>=2.7 in /usr/local/lib/python3.10/dist-packages (from matplotlib>=3.3->obspy) (2.9.0.post0)\n",
            "Requirement already satisfied: greenlet!=0.4.17 in /usr/local/lib/python3.10/dist-packages (from sqlalchemy<2->obspy) (3.1.1)\n",
            "Requirement already satisfied: charset-normalizer<4,>=2 in /usr/local/lib/python3.10/dist-packages (from requests->obspy) (3.3.2)\n",
            "Requirement already satisfied: idna<4,>=2.5 in /usr/local/lib/python3.10/dist-packages (from requests->obspy) (3.10)\n",
            "Requirement already satisfied: urllib3<3,>=1.21.1 in /usr/local/lib/python3.10/dist-packages (from requests->obspy) (2.2.3)\n",
            "Requirement already satisfied: certifi>=2017.4.17 in /usr/local/lib/python3.10/dist-packages (from requests->obspy) (2024.8.30)\n",
            "Requirement already satisfied: six>=1.5 in /usr/local/lib/python3.10/dist-packages (from python-dateutil>=2.7->matplotlib>=3.3->obspy) (1.16.0)\n"
          ]
        }
      ]
    },
    {
      "cell_type": "code",
      "execution_count": null,
      "metadata": {
        "id": "sOm085ReqSKb"
      },
      "outputs": [],
      "source": [
        "from keras.utils import to_categorical\n",
        "from sklearn.preprocessing import OneHotEncoder\n",
        "from sklearn.model_selection import train_test_split\n",
        "from imutils import paths\n",
        "import numpy as np\n",
        "import pandas as pd\n",
        "import seaborn as sns\n",
        "import matplotlib.pyplot as plt\n",
        "import cv2\n",
        "import os\n",
        "from tqdm import tqdm\n",
        "from scipy import signal\n",
        "import matplotlib.pyplot as plt\n",
        "from scipy import signal\n",
        "import matplotlib.patches as patches\n",
        "from matplotlib import cm\n",
        "#Sismic\n",
        "from obspy import read\n",
        "from datetime import datetime, timedelta\n",
        "\n",
        "%matplotlib inline"
      ]
    },
    {
      "cell_type": "markdown",
      "source": [
        "#### Data Selection"
      ],
      "metadata": {
        "id": "SVwLu74yQWuV"
      }
    },
    {
      "cell_type": "code",
      "execution_count": null,
      "metadata": {
        "id": "z31w5uDBqSKe"
      },
      "outputs": [],
      "source": [
        "data_dir = r'/content/drive/MyDrive/data/lunar/training/data/S12_GradeA/'\n",
        "cat_directory = '/content/drive/MyDrive/data/lunar/training/catalogs/'"
      ]
    },
    {
      "cell_type": "code",
      "source": [
        "cat_file = cat_directory + 'apollo12_catalog_GradeA_final.csv'\n",
        "cat = pd.read_csv(cat_file)\n",
        "cat"
      ],
      "metadata": {
        "colab": {
          "base_uri": "https://localhost:8080/",
          "height": 424
        },
        "id": "ccZII95JQykI",
        "outputId": "7dea143a-6200-4e28-c799-969af9faf130"
      },
      "execution_count": null,
      "outputs": [
        {
          "output_type": "execute_result",
          "data": {
            "text/plain": [
              "                                  filename time_abs(%Y-%m-%dT%H:%M:%S.%f)  \\\n",
              "0   xa.s12.00.mhz.1970-01-19HR00_evid00002     1970-01-19T20:25:00.000000   \n",
              "1   xa.s12.00.mhz.1970-03-25HR00_evid00003     1970-03-25T03:32:00.000000   \n",
              "2   xa.s12.00.mhz.1970-03-26HR00_evid00004     1970-03-26T20:17:00.000000   \n",
              "3   xa.s12.00.mhz.1970-04-25HR00_evid00006     1970-04-25T01:14:00.000000   \n",
              "4   xa.s12.00.mhz.1970-04-26HR00_evid00007     1970-04-26T14:29:00.000000   \n",
              "..                                     ...                            ...   \n",
              "71  xa.s12.00.mhz.1974-10-14HR00_evid00156     1974-10-14T17:43:00.000000   \n",
              "72  xa.s12.00.mhz.1975-04-12HR00_evid00191     1975-04-12T18:15:00.000000   \n",
              "73  xa.s12.00.mhz.1975-05-04HR00_evid00192     1975-05-04T10:05:00.000000   \n",
              "74  xa.s12.00.mhz.1975-06-24HR00_evid00196     1975-06-24T16:03:00.000000   \n",
              "75  xa.s12.00.mhz.1975-06-26HR00_evid00198     1975-06-26T03:24:00.000000   \n",
              "\n",
              "    time_rel(sec)       evid    mq_type  \n",
              "0         73500.0  evid00002  impact_mq  \n",
              "1         12720.0  evid00003  impact_mq  \n",
              "2         73020.0  evid00004  impact_mq  \n",
              "3          4440.0  evid00006  impact_mq  \n",
              "4         52140.0  evid00007    deep_mq  \n",
              "..            ...        ...        ...  \n",
              "71        63780.0  evid00156  impact_mq  \n",
              "72        65700.0  evid00191  impact_mq  \n",
              "73        36300.0  evid00192  impact_mq  \n",
              "74        57780.0  evid00196  impact_mq  \n",
              "75        12240.0  evid00198  impact_mq  \n",
              "\n",
              "[76 rows x 5 columns]"
            ],
            "text/html": [
              "\n",
              "  <div id=\"df-7d2c8299-d293-4ca5-b219-a8d778797080\" class=\"colab-df-container\">\n",
              "    <div>\n",
              "<style scoped>\n",
              "    .dataframe tbody tr th:only-of-type {\n",
              "        vertical-align: middle;\n",
              "    }\n",
              "\n",
              "    .dataframe tbody tr th {\n",
              "        vertical-align: top;\n",
              "    }\n",
              "\n",
              "    .dataframe thead th {\n",
              "        text-align: right;\n",
              "    }\n",
              "</style>\n",
              "<table border=\"1\" class=\"dataframe\">\n",
              "  <thead>\n",
              "    <tr style=\"text-align: right;\">\n",
              "      <th></th>\n",
              "      <th>filename</th>\n",
              "      <th>time_abs(%Y-%m-%dT%H:%M:%S.%f)</th>\n",
              "      <th>time_rel(sec)</th>\n",
              "      <th>evid</th>\n",
              "      <th>mq_type</th>\n",
              "    </tr>\n",
              "  </thead>\n",
              "  <tbody>\n",
              "    <tr>\n",
              "      <th>0</th>\n",
              "      <td>xa.s12.00.mhz.1970-01-19HR00_evid00002</td>\n",
              "      <td>1970-01-19T20:25:00.000000</td>\n",
              "      <td>73500.0</td>\n",
              "      <td>evid00002</td>\n",
              "      <td>impact_mq</td>\n",
              "    </tr>\n",
              "    <tr>\n",
              "      <th>1</th>\n",
              "      <td>xa.s12.00.mhz.1970-03-25HR00_evid00003</td>\n",
              "      <td>1970-03-25T03:32:00.000000</td>\n",
              "      <td>12720.0</td>\n",
              "      <td>evid00003</td>\n",
              "      <td>impact_mq</td>\n",
              "    </tr>\n",
              "    <tr>\n",
              "      <th>2</th>\n",
              "      <td>xa.s12.00.mhz.1970-03-26HR00_evid00004</td>\n",
              "      <td>1970-03-26T20:17:00.000000</td>\n",
              "      <td>73020.0</td>\n",
              "      <td>evid00004</td>\n",
              "      <td>impact_mq</td>\n",
              "    </tr>\n",
              "    <tr>\n",
              "      <th>3</th>\n",
              "      <td>xa.s12.00.mhz.1970-04-25HR00_evid00006</td>\n",
              "      <td>1970-04-25T01:14:00.000000</td>\n",
              "      <td>4440.0</td>\n",
              "      <td>evid00006</td>\n",
              "      <td>impact_mq</td>\n",
              "    </tr>\n",
              "    <tr>\n",
              "      <th>4</th>\n",
              "      <td>xa.s12.00.mhz.1970-04-26HR00_evid00007</td>\n",
              "      <td>1970-04-26T14:29:00.000000</td>\n",
              "      <td>52140.0</td>\n",
              "      <td>evid00007</td>\n",
              "      <td>deep_mq</td>\n",
              "    </tr>\n",
              "    <tr>\n",
              "      <th>...</th>\n",
              "      <td>...</td>\n",
              "      <td>...</td>\n",
              "      <td>...</td>\n",
              "      <td>...</td>\n",
              "      <td>...</td>\n",
              "    </tr>\n",
              "    <tr>\n",
              "      <th>71</th>\n",
              "      <td>xa.s12.00.mhz.1974-10-14HR00_evid00156</td>\n",
              "      <td>1974-10-14T17:43:00.000000</td>\n",
              "      <td>63780.0</td>\n",
              "      <td>evid00156</td>\n",
              "      <td>impact_mq</td>\n",
              "    </tr>\n",
              "    <tr>\n",
              "      <th>72</th>\n",
              "      <td>xa.s12.00.mhz.1975-04-12HR00_evid00191</td>\n",
              "      <td>1975-04-12T18:15:00.000000</td>\n",
              "      <td>65700.0</td>\n",
              "      <td>evid00191</td>\n",
              "      <td>impact_mq</td>\n",
              "    </tr>\n",
              "    <tr>\n",
              "      <th>73</th>\n",
              "      <td>xa.s12.00.mhz.1975-05-04HR00_evid00192</td>\n",
              "      <td>1975-05-04T10:05:00.000000</td>\n",
              "      <td>36300.0</td>\n",
              "      <td>evid00192</td>\n",
              "      <td>impact_mq</td>\n",
              "    </tr>\n",
              "    <tr>\n",
              "      <th>74</th>\n",
              "      <td>xa.s12.00.mhz.1975-06-24HR00_evid00196</td>\n",
              "      <td>1975-06-24T16:03:00.000000</td>\n",
              "      <td>57780.0</td>\n",
              "      <td>evid00196</td>\n",
              "      <td>impact_mq</td>\n",
              "    </tr>\n",
              "    <tr>\n",
              "      <th>75</th>\n",
              "      <td>xa.s12.00.mhz.1975-06-26HR00_evid00198</td>\n",
              "      <td>1975-06-26T03:24:00.000000</td>\n",
              "      <td>12240.0</td>\n",
              "      <td>evid00198</td>\n",
              "      <td>impact_mq</td>\n",
              "    </tr>\n",
              "  </tbody>\n",
              "</table>\n",
              "<p>76 rows × 5 columns</p>\n",
              "</div>\n",
              "    <div class=\"colab-df-buttons\">\n",
              "\n",
              "  <div class=\"colab-df-container\">\n",
              "    <button class=\"colab-df-convert\" onclick=\"convertToInteractive('df-7d2c8299-d293-4ca5-b219-a8d778797080')\"\n",
              "            title=\"Convert this dataframe to an interactive table.\"\n",
              "            style=\"display:none;\">\n",
              "\n",
              "  <svg xmlns=\"http://www.w3.org/2000/svg\" height=\"24px\" viewBox=\"0 -960 960 960\">\n",
              "    <path d=\"M120-120v-720h720v720H120Zm60-500h600v-160H180v160Zm220 220h160v-160H400v160Zm0 220h160v-160H400v160ZM180-400h160v-160H180v160Zm440 0h160v-160H620v160ZM180-180h160v-160H180v160Zm440 0h160v-160H620v160Z\"/>\n",
              "  </svg>\n",
              "    </button>\n",
              "\n",
              "  <style>\n",
              "    .colab-df-container {\n",
              "      display:flex;\n",
              "      gap: 12px;\n",
              "    }\n",
              "\n",
              "    .colab-df-convert {\n",
              "      background-color: #E8F0FE;\n",
              "      border: none;\n",
              "      border-radius: 50%;\n",
              "      cursor: pointer;\n",
              "      display: none;\n",
              "      fill: #1967D2;\n",
              "      height: 32px;\n",
              "      padding: 0 0 0 0;\n",
              "      width: 32px;\n",
              "    }\n",
              "\n",
              "    .colab-df-convert:hover {\n",
              "      background-color: #E2EBFA;\n",
              "      box-shadow: 0px 1px 2px rgba(60, 64, 67, 0.3), 0px 1px 3px 1px rgba(60, 64, 67, 0.15);\n",
              "      fill: #174EA6;\n",
              "    }\n",
              "\n",
              "    .colab-df-buttons div {\n",
              "      margin-bottom: 4px;\n",
              "    }\n",
              "\n",
              "    [theme=dark] .colab-df-convert {\n",
              "      background-color: #3B4455;\n",
              "      fill: #D2E3FC;\n",
              "    }\n",
              "\n",
              "    [theme=dark] .colab-df-convert:hover {\n",
              "      background-color: #434B5C;\n",
              "      box-shadow: 0px 1px 3px 1px rgba(0, 0, 0, 0.15);\n",
              "      filter: drop-shadow(0px 1px 2px rgba(0, 0, 0, 0.3));\n",
              "      fill: #FFFFFF;\n",
              "    }\n",
              "  </style>\n",
              "\n",
              "    <script>\n",
              "      const buttonEl =\n",
              "        document.querySelector('#df-7d2c8299-d293-4ca5-b219-a8d778797080 button.colab-df-convert');\n",
              "      buttonEl.style.display =\n",
              "        google.colab.kernel.accessAllowed ? 'block' : 'none';\n",
              "\n",
              "      async function convertToInteractive(key) {\n",
              "        const element = document.querySelector('#df-7d2c8299-d293-4ca5-b219-a8d778797080');\n",
              "        const dataTable =\n",
              "          await google.colab.kernel.invokeFunction('convertToInteractive',\n",
              "                                                    [key], {});\n",
              "        if (!dataTable) return;\n",
              "\n",
              "        const docLinkHtml = 'Like what you see? Visit the ' +\n",
              "          '<a target=\"_blank\" href=https://colab.research.google.com/notebooks/data_table.ipynb>data table notebook</a>'\n",
              "          + ' to learn more about interactive tables.';\n",
              "        element.innerHTML = '';\n",
              "        dataTable['output_type'] = 'display_data';\n",
              "        await google.colab.output.renderOutput(dataTable, element);\n",
              "        const docLink = document.createElement('div');\n",
              "        docLink.innerHTML = docLinkHtml;\n",
              "        element.appendChild(docLink);\n",
              "      }\n",
              "    </script>\n",
              "  </div>\n",
              "\n",
              "\n",
              "<div id=\"df-8bfa1584-ba5a-488e-8deb-d1da1bcce5d9\">\n",
              "  <button class=\"colab-df-quickchart\" onclick=\"quickchart('df-8bfa1584-ba5a-488e-8deb-d1da1bcce5d9')\"\n",
              "            title=\"Suggest charts\"\n",
              "            style=\"display:none;\">\n",
              "\n",
              "<svg xmlns=\"http://www.w3.org/2000/svg\" height=\"24px\"viewBox=\"0 0 24 24\"\n",
              "     width=\"24px\">\n",
              "    <g>\n",
              "        <path d=\"M19 3H5c-1.1 0-2 .9-2 2v14c0 1.1.9 2 2 2h14c1.1 0 2-.9 2-2V5c0-1.1-.9-2-2-2zM9 17H7v-7h2v7zm4 0h-2V7h2v10zm4 0h-2v-4h2v4z\"/>\n",
              "    </g>\n",
              "</svg>\n",
              "  </button>\n",
              "\n",
              "<style>\n",
              "  .colab-df-quickchart {\n",
              "      --bg-color: #E8F0FE;\n",
              "      --fill-color: #1967D2;\n",
              "      --hover-bg-color: #E2EBFA;\n",
              "      --hover-fill-color: #174EA6;\n",
              "      --disabled-fill-color: #AAA;\n",
              "      --disabled-bg-color: #DDD;\n",
              "  }\n",
              "\n",
              "  [theme=dark] .colab-df-quickchart {\n",
              "      --bg-color: #3B4455;\n",
              "      --fill-color: #D2E3FC;\n",
              "      --hover-bg-color: #434B5C;\n",
              "      --hover-fill-color: #FFFFFF;\n",
              "      --disabled-bg-color: #3B4455;\n",
              "      --disabled-fill-color: #666;\n",
              "  }\n",
              "\n",
              "  .colab-df-quickchart {\n",
              "    background-color: var(--bg-color);\n",
              "    border: none;\n",
              "    border-radius: 50%;\n",
              "    cursor: pointer;\n",
              "    display: none;\n",
              "    fill: var(--fill-color);\n",
              "    height: 32px;\n",
              "    padding: 0;\n",
              "    width: 32px;\n",
              "  }\n",
              "\n",
              "  .colab-df-quickchart:hover {\n",
              "    background-color: var(--hover-bg-color);\n",
              "    box-shadow: 0 1px 2px rgba(60, 64, 67, 0.3), 0 1px 3px 1px rgba(60, 64, 67, 0.15);\n",
              "    fill: var(--button-hover-fill-color);\n",
              "  }\n",
              "\n",
              "  .colab-df-quickchart-complete:disabled,\n",
              "  .colab-df-quickchart-complete:disabled:hover {\n",
              "    background-color: var(--disabled-bg-color);\n",
              "    fill: var(--disabled-fill-color);\n",
              "    box-shadow: none;\n",
              "  }\n",
              "\n",
              "  .colab-df-spinner {\n",
              "    border: 2px solid var(--fill-color);\n",
              "    border-color: transparent;\n",
              "    border-bottom-color: var(--fill-color);\n",
              "    animation:\n",
              "      spin 1s steps(1) infinite;\n",
              "  }\n",
              "\n",
              "  @keyframes spin {\n",
              "    0% {\n",
              "      border-color: transparent;\n",
              "      border-bottom-color: var(--fill-color);\n",
              "      border-left-color: var(--fill-color);\n",
              "    }\n",
              "    20% {\n",
              "      border-color: transparent;\n",
              "      border-left-color: var(--fill-color);\n",
              "      border-top-color: var(--fill-color);\n",
              "    }\n",
              "    30% {\n",
              "      border-color: transparent;\n",
              "      border-left-color: var(--fill-color);\n",
              "      border-top-color: var(--fill-color);\n",
              "      border-right-color: var(--fill-color);\n",
              "    }\n",
              "    40% {\n",
              "      border-color: transparent;\n",
              "      border-right-color: var(--fill-color);\n",
              "      border-top-color: var(--fill-color);\n",
              "    }\n",
              "    60% {\n",
              "      border-color: transparent;\n",
              "      border-right-color: var(--fill-color);\n",
              "    }\n",
              "    80% {\n",
              "      border-color: transparent;\n",
              "      border-right-color: var(--fill-color);\n",
              "      border-bottom-color: var(--fill-color);\n",
              "    }\n",
              "    90% {\n",
              "      border-color: transparent;\n",
              "      border-bottom-color: var(--fill-color);\n",
              "    }\n",
              "  }\n",
              "</style>\n",
              "\n",
              "  <script>\n",
              "    async function quickchart(key) {\n",
              "      const quickchartButtonEl =\n",
              "        document.querySelector('#' + key + ' button');\n",
              "      quickchartButtonEl.disabled = true;  // To prevent multiple clicks.\n",
              "      quickchartButtonEl.classList.add('colab-df-spinner');\n",
              "      try {\n",
              "        const charts = await google.colab.kernel.invokeFunction(\n",
              "            'suggestCharts', [key], {});\n",
              "      } catch (error) {\n",
              "        console.error('Error during call to suggestCharts:', error);\n",
              "      }\n",
              "      quickchartButtonEl.classList.remove('colab-df-spinner');\n",
              "      quickchartButtonEl.classList.add('colab-df-quickchart-complete');\n",
              "    }\n",
              "    (() => {\n",
              "      let quickchartButtonEl =\n",
              "        document.querySelector('#df-8bfa1584-ba5a-488e-8deb-d1da1bcce5d9 button');\n",
              "      quickchartButtonEl.style.display =\n",
              "        google.colab.kernel.accessAllowed ? 'block' : 'none';\n",
              "    })();\n",
              "  </script>\n",
              "</div>\n",
              "\n",
              "  <div id=\"id_fdffc06d-97b0-4945-b0cd-ef3947d6f521\">\n",
              "    <style>\n",
              "      .colab-df-generate {\n",
              "        background-color: #E8F0FE;\n",
              "        border: none;\n",
              "        border-radius: 50%;\n",
              "        cursor: pointer;\n",
              "        display: none;\n",
              "        fill: #1967D2;\n",
              "        height: 32px;\n",
              "        padding: 0 0 0 0;\n",
              "        width: 32px;\n",
              "      }\n",
              "\n",
              "      .colab-df-generate:hover {\n",
              "        background-color: #E2EBFA;\n",
              "        box-shadow: 0px 1px 2px rgba(60, 64, 67, 0.3), 0px 1px 3px 1px rgba(60, 64, 67, 0.15);\n",
              "        fill: #174EA6;\n",
              "      }\n",
              "\n",
              "      [theme=dark] .colab-df-generate {\n",
              "        background-color: #3B4455;\n",
              "        fill: #D2E3FC;\n",
              "      }\n",
              "\n",
              "      [theme=dark] .colab-df-generate:hover {\n",
              "        background-color: #434B5C;\n",
              "        box-shadow: 0px 1px 3px 1px rgba(0, 0, 0, 0.15);\n",
              "        filter: drop-shadow(0px 1px 2px rgba(0, 0, 0, 0.3));\n",
              "        fill: #FFFFFF;\n",
              "      }\n",
              "    </style>\n",
              "    <button class=\"colab-df-generate\" onclick=\"generateWithVariable('cat')\"\n",
              "            title=\"Generate code using this dataframe.\"\n",
              "            style=\"display:none;\">\n",
              "\n",
              "  <svg xmlns=\"http://www.w3.org/2000/svg\" height=\"24px\"viewBox=\"0 0 24 24\"\n",
              "       width=\"24px\">\n",
              "    <path d=\"M7,19H8.4L18.45,9,17,7.55,7,17.6ZM5,21V16.75L18.45,3.32a2,2,0,0,1,2.83,0l1.4,1.43a1.91,1.91,0,0,1,.58,1.4,1.91,1.91,0,0,1-.58,1.4L9.25,21ZM18.45,9,17,7.55Zm-12,3A5.31,5.31,0,0,0,4.9,8.1,5.31,5.31,0,0,0,1,6.5,5.31,5.31,0,0,0,4.9,4.9,5.31,5.31,0,0,0,6.5,1,5.31,5.31,0,0,0,8.1,4.9,5.31,5.31,0,0,0,12,6.5,5.46,5.46,0,0,0,6.5,12Z\"/>\n",
              "  </svg>\n",
              "    </button>\n",
              "    <script>\n",
              "      (() => {\n",
              "      const buttonEl =\n",
              "        document.querySelector('#id_fdffc06d-97b0-4945-b0cd-ef3947d6f521 button.colab-df-generate');\n",
              "      buttonEl.style.display =\n",
              "        google.colab.kernel.accessAllowed ? 'block' : 'none';\n",
              "\n",
              "      buttonEl.onclick = () => {\n",
              "        google.colab.notebook.generateWithVariable('cat');\n",
              "      }\n",
              "      })();\n",
              "    </script>\n",
              "  </div>\n",
              "\n",
              "    </div>\n",
              "  </div>\n"
            ],
            "application/vnd.google.colaboratory.intrinsic+json": {
              "type": "dataframe",
              "variable_name": "cat",
              "summary": "{\n  \"name\": \"cat\",\n  \"rows\": 76,\n  \"fields\": [\n    {\n      \"column\": \"filename\",\n      \"properties\": {\n        \"dtype\": \"string\",\n        \"num_unique_values\": 76,\n        \"samples\": [\n          \"xa.s12.00.mhz.1970-04-26HR00_evid00007\",\n          \"xa.s12.00.mhz.1972-06-16HR00_evid00060\",\n          \"xa.s12.00.mhz.1970-10-24HR00_evid00014\"\n        ],\n        \"semantic_type\": \"\",\n        \"description\": \"\"\n      }\n    },\n    {\n      \"column\": \"time_abs(%Y-%m-%dT%H:%M:%S.%f)\",\n      \"properties\": {\n        \"dtype\": \"object\",\n        \"num_unique_values\": 76,\n        \"samples\": [\n          \"1970-04-26T14:29:00.000000\",\n          \"1972-06-16T16:11:00.000000\",\n          \"1970-10-24T11:31:00.000000\"\n        ],\n        \"semantic_type\": \"\",\n        \"description\": \"\"\n      }\n    },\n    {\n      \"column\": \"time_rel(sec)\",\n      \"properties\": {\n        \"dtype\": \"number\",\n        \"std\": 25254.71008492642,\n        \"min\": 1380.0,\n        \"max\": 84660.0,\n        \"num_unique_values\": 71,\n        \"samples\": [\n          29100.0,\n          73500.0,\n          65700.0\n        ],\n        \"semantic_type\": \"\",\n        \"description\": \"\"\n      }\n    },\n    {\n      \"column\": \"evid\",\n      \"properties\": {\n        \"dtype\": \"string\",\n        \"num_unique_values\": 76,\n        \"samples\": [\n          \"evid00007\",\n          \"evid00060\",\n          \"evid00014\"\n        ],\n        \"semantic_type\": \"\",\n        \"description\": \"\"\n      }\n    },\n    {\n      \"column\": \"mq_type\",\n      \"properties\": {\n        \"dtype\": \"category\",\n        \"num_unique_values\": 3,\n        \"samples\": [\n          \"impact_mq\",\n          \"deep_mq\",\n          \"shallow_mq\"\n        ],\n        \"semantic_type\": \"\",\n        \"description\": \"\"\n      }\n    }\n  ]\n}"
            }
          },
          "metadata": {},
          "execution_count": 84
        }
      ]
    },
    {
      "cell_type": "code",
      "source": [
        "row = cat.iloc[75]\n",
        "test_filename = row.filename"
      ],
      "metadata": {
        "id": "qaBLHwVGHwo8"
      },
      "execution_count": null,
      "outputs": []
    },
    {
      "cell_type": "code",
      "source": [
        "csv_file = f'{data_dir}{test_filename}.csv'\n",
        "data_cat = pd.read_csv(csv_file)\n",
        "data_cat"
      ],
      "metadata": {
        "colab": {
          "base_uri": "https://localhost:8080/",
          "height": 424
        },
        "id": "crKq0PbATx0L",
        "outputId": "b8226319-d6f4-4625-dee3-87b7f0a018a2"
      },
      "execution_count": null,
      "outputs": [
        {
          "output_type": "execute_result",
          "data": {
            "text/plain": [
              "       time_abs(%Y-%m-%dT%H:%M:%S.%f)  time_rel(sec)  velocity(m/s)\n",
              "0          1975-06-26T00:00:00.542000       0.000000  -1.932693e-15\n",
              "1          1975-06-26T00:00:00.692943       0.150943  -2.417374e-15\n",
              "2          1975-06-26T00:00:00.843887       0.301887  -2.637054e-15\n",
              "3          1975-06-26T00:00:00.994830       0.452830  -2.545157e-15\n",
              "4          1975-06-26T00:00:01.145774       0.603774  -2.229539e-15\n",
              "...                               ...            ...            ...\n",
              "572402     1975-06-27T00:00:00.843887   86400.301887  -3.982647e-16\n",
              "572403     1975-06-27T00:00:00.994830   86400.452830  -5.580877e-16\n",
              "572404     1975-06-27T00:00:01.145774   86400.603774  -6.563002e-16\n",
              "572405     1975-06-27T00:00:01.296717   86400.754717  -3.281501e-16\n",
              "572406     1975-06-27T00:00:01.447660   86400.905660   0.000000e+00\n",
              "\n",
              "[572407 rows x 3 columns]"
            ],
            "text/html": [
              "\n",
              "  <div id=\"df-697e379e-3619-4511-a597-075be6431386\" class=\"colab-df-container\">\n",
              "    <div>\n",
              "<style scoped>\n",
              "    .dataframe tbody tr th:only-of-type {\n",
              "        vertical-align: middle;\n",
              "    }\n",
              "\n",
              "    .dataframe tbody tr th {\n",
              "        vertical-align: top;\n",
              "    }\n",
              "\n",
              "    .dataframe thead th {\n",
              "        text-align: right;\n",
              "    }\n",
              "</style>\n",
              "<table border=\"1\" class=\"dataframe\">\n",
              "  <thead>\n",
              "    <tr style=\"text-align: right;\">\n",
              "      <th></th>\n",
              "      <th>time_abs(%Y-%m-%dT%H:%M:%S.%f)</th>\n",
              "      <th>time_rel(sec)</th>\n",
              "      <th>velocity(m/s)</th>\n",
              "    </tr>\n",
              "  </thead>\n",
              "  <tbody>\n",
              "    <tr>\n",
              "      <th>0</th>\n",
              "      <td>1975-06-26T00:00:00.542000</td>\n",
              "      <td>0.000000</td>\n",
              "      <td>-1.932693e-15</td>\n",
              "    </tr>\n",
              "    <tr>\n",
              "      <th>1</th>\n",
              "      <td>1975-06-26T00:00:00.692943</td>\n",
              "      <td>0.150943</td>\n",
              "      <td>-2.417374e-15</td>\n",
              "    </tr>\n",
              "    <tr>\n",
              "      <th>2</th>\n",
              "      <td>1975-06-26T00:00:00.843887</td>\n",
              "      <td>0.301887</td>\n",
              "      <td>-2.637054e-15</td>\n",
              "    </tr>\n",
              "    <tr>\n",
              "      <th>3</th>\n",
              "      <td>1975-06-26T00:00:00.994830</td>\n",
              "      <td>0.452830</td>\n",
              "      <td>-2.545157e-15</td>\n",
              "    </tr>\n",
              "    <tr>\n",
              "      <th>4</th>\n",
              "      <td>1975-06-26T00:00:01.145774</td>\n",
              "      <td>0.603774</td>\n",
              "      <td>-2.229539e-15</td>\n",
              "    </tr>\n",
              "    <tr>\n",
              "      <th>...</th>\n",
              "      <td>...</td>\n",
              "      <td>...</td>\n",
              "      <td>...</td>\n",
              "    </tr>\n",
              "    <tr>\n",
              "      <th>572402</th>\n",
              "      <td>1975-06-27T00:00:00.843887</td>\n",
              "      <td>86400.301887</td>\n",
              "      <td>-3.982647e-16</td>\n",
              "    </tr>\n",
              "    <tr>\n",
              "      <th>572403</th>\n",
              "      <td>1975-06-27T00:00:00.994830</td>\n",
              "      <td>86400.452830</td>\n",
              "      <td>-5.580877e-16</td>\n",
              "    </tr>\n",
              "    <tr>\n",
              "      <th>572404</th>\n",
              "      <td>1975-06-27T00:00:01.145774</td>\n",
              "      <td>86400.603774</td>\n",
              "      <td>-6.563002e-16</td>\n",
              "    </tr>\n",
              "    <tr>\n",
              "      <th>572405</th>\n",
              "      <td>1975-06-27T00:00:01.296717</td>\n",
              "      <td>86400.754717</td>\n",
              "      <td>-3.281501e-16</td>\n",
              "    </tr>\n",
              "    <tr>\n",
              "      <th>572406</th>\n",
              "      <td>1975-06-27T00:00:01.447660</td>\n",
              "      <td>86400.905660</td>\n",
              "      <td>0.000000e+00</td>\n",
              "    </tr>\n",
              "  </tbody>\n",
              "</table>\n",
              "<p>572407 rows × 3 columns</p>\n",
              "</div>\n",
              "    <div class=\"colab-df-buttons\">\n",
              "\n",
              "  <div class=\"colab-df-container\">\n",
              "    <button class=\"colab-df-convert\" onclick=\"convertToInteractive('df-697e379e-3619-4511-a597-075be6431386')\"\n",
              "            title=\"Convert this dataframe to an interactive table.\"\n",
              "            style=\"display:none;\">\n",
              "\n",
              "  <svg xmlns=\"http://www.w3.org/2000/svg\" height=\"24px\" viewBox=\"0 -960 960 960\">\n",
              "    <path d=\"M120-120v-720h720v720H120Zm60-500h600v-160H180v160Zm220 220h160v-160H400v160Zm0 220h160v-160H400v160ZM180-400h160v-160H180v160Zm440 0h160v-160H620v160ZM180-180h160v-160H180v160Zm440 0h160v-160H620v160Z\"/>\n",
              "  </svg>\n",
              "    </button>\n",
              "\n",
              "  <style>\n",
              "    .colab-df-container {\n",
              "      display:flex;\n",
              "      gap: 12px;\n",
              "    }\n",
              "\n",
              "    .colab-df-convert {\n",
              "      background-color: #E8F0FE;\n",
              "      border: none;\n",
              "      border-radius: 50%;\n",
              "      cursor: pointer;\n",
              "      display: none;\n",
              "      fill: #1967D2;\n",
              "      height: 32px;\n",
              "      padding: 0 0 0 0;\n",
              "      width: 32px;\n",
              "    }\n",
              "\n",
              "    .colab-df-convert:hover {\n",
              "      background-color: #E2EBFA;\n",
              "      box-shadow: 0px 1px 2px rgba(60, 64, 67, 0.3), 0px 1px 3px 1px rgba(60, 64, 67, 0.15);\n",
              "      fill: #174EA6;\n",
              "    }\n",
              "\n",
              "    .colab-df-buttons div {\n",
              "      margin-bottom: 4px;\n",
              "    }\n",
              "\n",
              "    [theme=dark] .colab-df-convert {\n",
              "      background-color: #3B4455;\n",
              "      fill: #D2E3FC;\n",
              "    }\n",
              "\n",
              "    [theme=dark] .colab-df-convert:hover {\n",
              "      background-color: #434B5C;\n",
              "      box-shadow: 0px 1px 3px 1px rgba(0, 0, 0, 0.15);\n",
              "      filter: drop-shadow(0px 1px 2px rgba(0, 0, 0, 0.3));\n",
              "      fill: #FFFFFF;\n",
              "    }\n",
              "  </style>\n",
              "\n",
              "    <script>\n",
              "      const buttonEl =\n",
              "        document.querySelector('#df-697e379e-3619-4511-a597-075be6431386 button.colab-df-convert');\n",
              "      buttonEl.style.display =\n",
              "        google.colab.kernel.accessAllowed ? 'block' : 'none';\n",
              "\n",
              "      async function convertToInteractive(key) {\n",
              "        const element = document.querySelector('#df-697e379e-3619-4511-a597-075be6431386');\n",
              "        const dataTable =\n",
              "          await google.colab.kernel.invokeFunction('convertToInteractive',\n",
              "                                                    [key], {});\n",
              "        if (!dataTable) return;\n",
              "\n",
              "        const docLinkHtml = 'Like what you see? Visit the ' +\n",
              "          '<a target=\"_blank\" href=https://colab.research.google.com/notebooks/data_table.ipynb>data table notebook</a>'\n",
              "          + ' to learn more about interactive tables.';\n",
              "        element.innerHTML = '';\n",
              "        dataTable['output_type'] = 'display_data';\n",
              "        await google.colab.output.renderOutput(dataTable, element);\n",
              "        const docLink = document.createElement('div');\n",
              "        docLink.innerHTML = docLinkHtml;\n",
              "        element.appendChild(docLink);\n",
              "      }\n",
              "    </script>\n",
              "  </div>\n",
              "\n",
              "\n",
              "<div id=\"df-88a4c559-ebad-4a4b-a1f2-0385f1e625b5\">\n",
              "  <button class=\"colab-df-quickchart\" onclick=\"quickchart('df-88a4c559-ebad-4a4b-a1f2-0385f1e625b5')\"\n",
              "            title=\"Suggest charts\"\n",
              "            style=\"display:none;\">\n",
              "\n",
              "<svg xmlns=\"http://www.w3.org/2000/svg\" height=\"24px\"viewBox=\"0 0 24 24\"\n",
              "     width=\"24px\">\n",
              "    <g>\n",
              "        <path d=\"M19 3H5c-1.1 0-2 .9-2 2v14c0 1.1.9 2 2 2h14c1.1 0 2-.9 2-2V5c0-1.1-.9-2-2-2zM9 17H7v-7h2v7zm4 0h-2V7h2v10zm4 0h-2v-4h2v4z\"/>\n",
              "    </g>\n",
              "</svg>\n",
              "  </button>\n",
              "\n",
              "<style>\n",
              "  .colab-df-quickchart {\n",
              "      --bg-color: #E8F0FE;\n",
              "      --fill-color: #1967D2;\n",
              "      --hover-bg-color: #E2EBFA;\n",
              "      --hover-fill-color: #174EA6;\n",
              "      --disabled-fill-color: #AAA;\n",
              "      --disabled-bg-color: #DDD;\n",
              "  }\n",
              "\n",
              "  [theme=dark] .colab-df-quickchart {\n",
              "      --bg-color: #3B4455;\n",
              "      --fill-color: #D2E3FC;\n",
              "      --hover-bg-color: #434B5C;\n",
              "      --hover-fill-color: #FFFFFF;\n",
              "      --disabled-bg-color: #3B4455;\n",
              "      --disabled-fill-color: #666;\n",
              "  }\n",
              "\n",
              "  .colab-df-quickchart {\n",
              "    background-color: var(--bg-color);\n",
              "    border: none;\n",
              "    border-radius: 50%;\n",
              "    cursor: pointer;\n",
              "    display: none;\n",
              "    fill: var(--fill-color);\n",
              "    height: 32px;\n",
              "    padding: 0;\n",
              "    width: 32px;\n",
              "  }\n",
              "\n",
              "  .colab-df-quickchart:hover {\n",
              "    background-color: var(--hover-bg-color);\n",
              "    box-shadow: 0 1px 2px rgba(60, 64, 67, 0.3), 0 1px 3px 1px rgba(60, 64, 67, 0.15);\n",
              "    fill: var(--button-hover-fill-color);\n",
              "  }\n",
              "\n",
              "  .colab-df-quickchart-complete:disabled,\n",
              "  .colab-df-quickchart-complete:disabled:hover {\n",
              "    background-color: var(--disabled-bg-color);\n",
              "    fill: var(--disabled-fill-color);\n",
              "    box-shadow: none;\n",
              "  }\n",
              "\n",
              "  .colab-df-spinner {\n",
              "    border: 2px solid var(--fill-color);\n",
              "    border-color: transparent;\n",
              "    border-bottom-color: var(--fill-color);\n",
              "    animation:\n",
              "      spin 1s steps(1) infinite;\n",
              "  }\n",
              "\n",
              "  @keyframes spin {\n",
              "    0% {\n",
              "      border-color: transparent;\n",
              "      border-bottom-color: var(--fill-color);\n",
              "      border-left-color: var(--fill-color);\n",
              "    }\n",
              "    20% {\n",
              "      border-color: transparent;\n",
              "      border-left-color: var(--fill-color);\n",
              "      border-top-color: var(--fill-color);\n",
              "    }\n",
              "    30% {\n",
              "      border-color: transparent;\n",
              "      border-left-color: var(--fill-color);\n",
              "      border-top-color: var(--fill-color);\n",
              "      border-right-color: var(--fill-color);\n",
              "    }\n",
              "    40% {\n",
              "      border-color: transparent;\n",
              "      border-right-color: var(--fill-color);\n",
              "      border-top-color: var(--fill-color);\n",
              "    }\n",
              "    60% {\n",
              "      border-color: transparent;\n",
              "      border-right-color: var(--fill-color);\n",
              "    }\n",
              "    80% {\n",
              "      border-color: transparent;\n",
              "      border-right-color: var(--fill-color);\n",
              "      border-bottom-color: var(--fill-color);\n",
              "    }\n",
              "    90% {\n",
              "      border-color: transparent;\n",
              "      border-bottom-color: var(--fill-color);\n",
              "    }\n",
              "  }\n",
              "</style>\n",
              "\n",
              "  <script>\n",
              "    async function quickchart(key) {\n",
              "      const quickchartButtonEl =\n",
              "        document.querySelector('#' + key + ' button');\n",
              "      quickchartButtonEl.disabled = true;  // To prevent multiple clicks.\n",
              "      quickchartButtonEl.classList.add('colab-df-spinner');\n",
              "      try {\n",
              "        const charts = await google.colab.kernel.invokeFunction(\n",
              "            'suggestCharts', [key], {});\n",
              "      } catch (error) {\n",
              "        console.error('Error during call to suggestCharts:', error);\n",
              "      }\n",
              "      quickchartButtonEl.classList.remove('colab-df-spinner');\n",
              "      quickchartButtonEl.classList.add('colab-df-quickchart-complete');\n",
              "    }\n",
              "    (() => {\n",
              "      let quickchartButtonEl =\n",
              "        document.querySelector('#df-88a4c559-ebad-4a4b-a1f2-0385f1e625b5 button');\n",
              "      quickchartButtonEl.style.display =\n",
              "        google.colab.kernel.accessAllowed ? 'block' : 'none';\n",
              "    })();\n",
              "  </script>\n",
              "</div>\n",
              "\n",
              "  <div id=\"id_4dc45272-7b12-47b0-8a69-94d7d52ced8b\">\n",
              "    <style>\n",
              "      .colab-df-generate {\n",
              "        background-color: #E8F0FE;\n",
              "        border: none;\n",
              "        border-radius: 50%;\n",
              "        cursor: pointer;\n",
              "        display: none;\n",
              "        fill: #1967D2;\n",
              "        height: 32px;\n",
              "        padding: 0 0 0 0;\n",
              "        width: 32px;\n",
              "      }\n",
              "\n",
              "      .colab-df-generate:hover {\n",
              "        background-color: #E2EBFA;\n",
              "        box-shadow: 0px 1px 2px rgba(60, 64, 67, 0.3), 0px 1px 3px 1px rgba(60, 64, 67, 0.15);\n",
              "        fill: #174EA6;\n",
              "      }\n",
              "\n",
              "      [theme=dark] .colab-df-generate {\n",
              "        background-color: #3B4455;\n",
              "        fill: #D2E3FC;\n",
              "      }\n",
              "\n",
              "      [theme=dark] .colab-df-generate:hover {\n",
              "        background-color: #434B5C;\n",
              "        box-shadow: 0px 1px 3px 1px rgba(0, 0, 0, 0.15);\n",
              "        filter: drop-shadow(0px 1px 2px rgba(0, 0, 0, 0.3));\n",
              "        fill: #FFFFFF;\n",
              "      }\n",
              "    </style>\n",
              "    <button class=\"colab-df-generate\" onclick=\"generateWithVariable('data_cat')\"\n",
              "            title=\"Generate code using this dataframe.\"\n",
              "            style=\"display:none;\">\n",
              "\n",
              "  <svg xmlns=\"http://www.w3.org/2000/svg\" height=\"24px\"viewBox=\"0 0 24 24\"\n",
              "       width=\"24px\">\n",
              "    <path d=\"M7,19H8.4L18.45,9,17,7.55,7,17.6ZM5,21V16.75L18.45,3.32a2,2,0,0,1,2.83,0l1.4,1.43a1.91,1.91,0,0,1,.58,1.4,1.91,1.91,0,0,1-.58,1.4L9.25,21ZM18.45,9,17,7.55Zm-12,3A5.31,5.31,0,0,0,4.9,8.1,5.31,5.31,0,0,0,1,6.5,5.31,5.31,0,0,0,4.9,4.9,5.31,5.31,0,0,0,6.5,1,5.31,5.31,0,0,0,8.1,4.9,5.31,5.31,0,0,0,12,6.5,5.46,5.46,0,0,0,6.5,12Z\"/>\n",
              "  </svg>\n",
              "    </button>\n",
              "    <script>\n",
              "      (() => {\n",
              "      const buttonEl =\n",
              "        document.querySelector('#id_4dc45272-7b12-47b0-8a69-94d7d52ced8b button.colab-df-generate');\n",
              "      buttonEl.style.display =\n",
              "        google.colab.kernel.accessAllowed ? 'block' : 'none';\n",
              "\n",
              "      buttonEl.onclick = () => {\n",
              "        google.colab.notebook.generateWithVariable('data_cat');\n",
              "      }\n",
              "      })();\n",
              "    </script>\n",
              "  </div>\n",
              "\n",
              "    </div>\n",
              "  </div>\n"
            ],
            "application/vnd.google.colaboratory.intrinsic+json": {
              "type": "dataframe",
              "variable_name": "data_cat"
            }
          },
          "metadata": {},
          "execution_count": 86
        }
      ]
    },
    {
      "cell_type": "code",
      "source": [
        "mseed_file = f'{data_dir}{test_filename}.mseed'\n",
        "st = read(mseed_file)\n",
        "st"
      ],
      "metadata": {
        "colab": {
          "base_uri": "https://localhost:8080/"
        },
        "id": "tYODS8upIcWR",
        "outputId": "621cc1a2-8ac8-40f9-e4de-5175907ed798"
      },
      "execution_count": null,
      "outputs": [
        {
          "output_type": "execute_result",
          "data": {
            "text/plain": [
              "1 Trace(s) in Stream:\n",
              "XA.S12.00.MHZ | 1975-06-26T00:00:00.542000Z - 1975-06-27T00:00:01.447660Z | 6.6 Hz, 572407 samples"
            ]
          },
          "metadata": {},
          "execution_count": 87
        }
      ]
    },
    {
      "cell_type": "code",
      "execution_count": null,
      "metadata": {
        "id": "mmZs8EZHqSKe",
        "outputId": "7a37e5ad-182e-494f-8c56-4b9d40d968ce",
        "colab": {
          "base_uri": "https://localhost:8080/",
          "height": 607
        }
      },
      "outputs": [
        {
          "output_type": "display_data",
          "data": {
            "text/plain": [
              "<Figure size 1000x600 with 1 Axes>"
            ],
            "image/png": "[encoded data removed]"
          },
          "metadata": {}
        }
      ],
      "source": [
        "# Data\n",
        "t1 = np.array(data_cat['time_rel(sec)'].tolist())\n",
        "xs = np.array(data_cat['velocity(m/s)'].tolist())\n",
        "fs = st[0].stats.sampling_rate\n",
        "\n",
        "plt.figure(figsize=(10, 6))\n",
        "plt.plot(t1, xs, color='purple', linewidth=2, linestyle='-', label= test_filename)\n",
        "\n",
        "\n",
        "plt.xlabel('Time (sec)', fontsize=16, labelpad=10)  # Ajustar la etiqueta del eje X\n",
        "plt.ylabel('Velocity (m/s)', fontsize=16, labelpad=10)  # Ajustar la etiqueta del eje Y\n",
        "\n",
        "plt.title('Velocity vs Time', fontsize=20, pad=15)\n",
        "\n",
        "plt.grid(True, linestyle='--', alpha=0.8)\n",
        "\n",
        "plt.xticks(fontsize=12)\n",
        "plt.yticks(fontsize=12)\n",
        "\n",
        "plt.tight_layout()\n",
        "plt.show()\n",
        "\n"
      ]
    },
    {
      "cell_type": "code",
      "source": [
        "f, t, sxx = signal.spectrogram(xs, fs)"
      ],
      "metadata": {
        "id": "re-pz1iMZBZD"
      },
      "execution_count": null,
      "outputs": []
    },
    {
      "cell_type": "code",
      "source": [
        "plt.figure(figsize=(12, 6))\n",
        "\n",
        "#Spectrogram\n",
        "vals = plt.pcolormesh(t, f, sxx, cmap=cm.jet, vmax=5e-17)\n",
        "\n",
        "plt.xlim([min(t1),max(t1)])\n",
        "plt.ylabel('Frequency (Hz)', fontsize=12, fontweight='bold')\n",
        "plt.xlabel('Time (Day Hour:Minute)', fontsize=12, fontweight='bold')\n",
        "\n",
        "plt.title('Spectrogram', fontsize=14, fontweight='bold')\n",
        "\n",
        "cbar = plt.colorbar(vals, orientation='horizontal')\n",
        "cbar.set_label('Power ((m/s)^2/sqrt(Hz))', fontweight='bold')\n",
        "\n",
        "# Mostrar el gráfico\n",
        "plt.show()"
      ],
      "metadata": {
        "colab": {
          "base_uri": "https://localhost:8080/",
          "height": 546
        },
        "id": "Eu3qxnfkZAOt",
        "outputId": "8e94a7f7-90cf-4118-9f39-767e8d0062cc"
      },
      "execution_count": null,
      "outputs": [
        {
          "output_type": "display_data",
          "data": {
            "text/plain": [
              "<Figure size 1200x600 with 2 Axes>"
            ],
            "image/png": "[encoded data removed]"
          },
          "metadata": {}
        }
      ]
    },
    {
      "cell_type": "code",
      "source": [
        "data_directory = '/content/drive/MyDrive/data/lunar/training/data/S12_GradeA/'\n",
        "\n",
        "data = []\n",
        "labels = []\n",
        "i = 0\n",
        "files = os.listdir(data_directory)\n",
        "recs = [f for f in files if f.endswith('.csv')]\n",
        "for file in recs:\n",
        "    # load the image\n",
        "    df = pd.read_csv(os.path.join(data_directory,file))\n",
        "    t = df['time_rel(sec)']\n",
        "    fs = 1/(t[1] - t[0])\n",
        "    xs = df['velocity(m/s)']\n",
        "    frequencies, times, spectrogram = signal.spectrogram(xs,fs)\n",
        "    row = cat.iloc[i]\n",
        "    d =  row[\"mq_type\"]\n",
        "    i+=1\n",
        "\n",
        "    # update the data and labels lists, respectively\n",
        "    if spectrogram.shape[0] >= 128 and spectrogram.shape[1] >=2048:\n",
        "      data.append(spectrogram[:128,:2048])\n",
        "      labels.append(d)"
      ],
      "metadata": {
        "id": "LWtMqqxJr9JL"
      },
      "execution_count": null,
      "outputs": []
    },
    {
      "cell_type": "markdown",
      "source": [
        "#### Data Cloning"
      ],
      "metadata": {
        "id": "O15q-nGU0cmX"
      }
    },
    {
      "cell_type": "code",
      "source": [
        "df = pd.read_csv('/content/drive/MyDrive/data/lunar/training/data/S12_GradeA/xa.s12.00.mhz.1971-04-17HR00_evid00030.csv')\n",
        "t = df['time_rel(sec)']\n",
        "fs = 1/(t[1] - t[0])\n",
        "xs = df['velocity(m/s)']\n",
        "frequencies, times, spectrogram = signal.spectrogram(xs,fs)\n",
        "d =  \"shallow_mq\"\n",
        "\n",
        "for i in range(20):\n",
        "  if spectrogram.shape[0] >= 128 and spectrogram.shape[1] >=2048:\n",
        "      data.append(spectrogram[:128,:2048])\n",
        "  labels.append(d)\n"
      ],
      "metadata": {
        "id": "yWHuf2m5yLms"
      },
      "execution_count": null,
      "outputs": []
    },
    {
      "cell_type": "code",
      "source": [
        "df = pd.read_csv('/content/drive/MyDrive/data/lunar/training/data/S12_GradeA/xa.s12.00.mhz.1971-01-15HR00_evid00022.csv')\n",
        "t = df['time_rel(sec)']\n",
        "fs = 1/(t[1] - t[0])\n",
        "xs = df['velocity(m/s)']\n",
        "frequencies, times, spectrogram = signal.spectrogram(xs,fs)\n",
        "d =  \"deep_mq\"\n",
        "\n",
        "for i in range(20):\n",
        "  if spectrogram.shape[0] >= 128 and spectrogram.shape[1] >=2048:\n",
        "      data.append(spectrogram[:128,:2048])\n",
        "  labels.append(d)"
      ],
      "metadata": {
        "id": "5b2ivXoj0SPo"
      },
      "execution_count": null,
      "outputs": []
    },
    {
      "cell_type": "code",
      "execution_count": null,
      "metadata": {
        "id": "PdTphTjZqSKg"
      },
      "outputs": [],
      "source": [
        "data = np.array(data)"
      ]
    },
    {
      "cell_type": "markdown",
      "metadata": {
        "id": "zaEgaL9BqSKg"
      },
      "source": [
        "### Class distribution"
      ]
    },
    {
      "cell_type": "code",
      "execution_count": null,
      "metadata": {
        "id": "l5OwuP-mqSKh"
      },
      "outputs": [],
      "source": [
        "values,count = np.unique(labels,return_counts=True)"
      ]
    },
    {
      "cell_type": "code",
      "execution_count": null,
      "metadata": {
        "id": "HlVHHPrvqSKh",
        "colab": {
          "base_uri": "https://localhost:8080/"
        },
        "outputId": "f4a98e38-f1e1-4a03-91b5-5b44db0a0c1e"
      },
      "outputs": [
        {
          "output_type": "stream",
          "name": "stdout",
          "text": [
            "['deep_mq' 'impact_mq' 'shallow_mq']\n"
          ]
        }
      ],
      "source": [
        "print(values)"
      ]
    },
    {
      "cell_type": "code",
      "execution_count": null,
      "metadata": {
        "id": "09kHYefGqSKh",
        "colab": {
          "base_uri": "https://localhost:8080/",
          "height": 595
        },
        "outputId": "9f944ac0-8129-4858-92fe-a3848ed2bd61"
      },
      "outputs": [
        {
          "output_type": "display_data",
          "data": {
            "text/plain": [
              "<Figure size 1000x500 with 1 Axes>"
            ],
            "image/png": "[encoded data removed]"
          },
          "metadata": {}
        }
      ],
      "source": [
        "import matplotlib.pyplot as plt\n",
        "#plot\n",
        "plt.figure(figsize=(10,5))\n",
        "index = np.arange(len(values))\n",
        "plt.bar(index, count)\n",
        "plt.xlabel('Commands', fontsize=12)\n",
        "plt.ylabel('No of samples', fontsize=12)\n",
        "plt.xticks(index, values, fontsize=15, rotation=60)\n",
        "plt.title('No. of samples for each command')\n",
        "plt.show()"
      ]
    },
    {
      "cell_type": "code",
      "execution_count": null,
      "metadata": {
        "id": "MtlQpIurqSKh"
      },
      "outputs": [],
      "source": [
        "labels_backup = labels"
      ]
    },
    {
      "cell_type": "code",
      "execution_count": null,
      "metadata": {
        "id": "6peXHor5qSKh"
      },
      "outputs": [],
      "source": [
        "# convert the labels to NumPy arrays while scaling the pixel\n",
        "labels = np.array(labels)"
      ]
    },
    {
      "cell_type": "code",
      "execution_count": null,
      "metadata": {
        "id": "iRO0NNxDqSKh"
      },
      "outputs": [],
      "source": [
        "# perform one-hot encoding on the labels\n",
        "from sklearn.preprocessing import LabelEncoder\n",
        "le = LabelEncoder()\n",
        "ls = le.fit_transform(labels)"
      ]
    },
    {
      "cell_type": "code",
      "execution_count": null,
      "metadata": {
        "id": "-UvM85y5qSKh"
      },
      "outputs": [],
      "source": [
        "labels_categoricals = to_categorical(ls)"
      ]
    },
    {
      "cell_type": "markdown",
      "metadata": {
        "id": "qgfgAbeuqSKh"
      },
      "source": [
        "### Data splitting - Train,CV and Test"
      ]
    },
    {
      "cell_type": "code",
      "execution_count": null,
      "metadata": {
        "id": "1DdakvqfqSKh"
      },
      "outputs": [],
      "source": [
        "# partition the data into training,cross-validation and testing splits using 60%,20% and 20% of data\n",
        "(trainX, testX, trainY, testY) = train_test_split(data, labels_categoricals,test_size=0.20, stratify=labels_categoricals, random_state=42)\n",
        "(trainX, cvX, trainY, cvY) = train_test_split(trainX, trainY,test_size=0.25, stratify=trainY, random_state=42)"
      ]
    },
    {
      "cell_type": "code",
      "execution_count": null,
      "metadata": {
        "id": "R0pCZzB1qSKi",
        "colab": {
          "base_uri": "https://localhost:8080/"
        },
        "outputId": "f7278cdb-385a-468f-a062-f80d04e41eac"
      },
      "outputs": [
        {
          "output_type": "stream",
          "name": "stdout",
          "text": [
            "Train data size :  (69, 128, 2048)\n",
            "Cross-Validation data size :  (23, 128, 2048)\n",
            "Test data size :  (23, 128, 2048)\n"
          ]
        }
      ],
      "source": [
        "print(\"Train data size : \",trainX.shape)\n",
        "print(\"Cross-Validation data size : \",cvX.shape)\n",
        "print(\"Test data size : \",testX.shape)"
      ]
    },
    {
      "cell_type": "code",
      "execution_count": null,
      "metadata": {
        "id": "hd6sktZhqSKi"
      },
      "outputs": [],
      "source": [
        "del data\n",
        "del labels_categoricals"
      ]
    },
    {
      "cell_type": "code",
      "execution_count": null,
      "metadata": {
        "id": "IezEkKWcqSKi"
      },
      "outputs": [],
      "source": [
        "from keras import backend as K\n",
        "\n",
        "# input image dimensions\n",
        "img_rows, img_cols = 128, 2048\n",
        "\n",
        "if K.image_data_format() == 'channels_first':\n",
        "    trainX = trainX.reshape(trainX.shape[0], 1, img_rows, img_cols)\n",
        "    testX = testX.reshape(testX.shape[0], 1, img_rows, img_cols)\n",
        "    cvX = cvX.reshape(cvX.shape[0], 1, img_rows, img_cols)\n",
        "    input_shape = (1, img_rows, img_cols)\n",
        "else:\n",
        "    trainX = trainX.reshape(trainX.shape[0],img_rows, img_cols,1)\n",
        "    testX = testX.reshape(testX.shape[0],img_rows, img_cols,1)\n",
        "    cvX = cvX.reshape(cvX.shape[0],img_rows, img_cols,1)\n",
        "    input_shape = (img_rows, img_cols,1)"
      ]
    },
    {
      "cell_type": "code",
      "execution_count": null,
      "metadata": {
        "id": "BJMenDTxqSKi",
        "colab": {
          "base_uri": "https://localhost:8080/"
        },
        "outputId": "a20221bb-004f-43f8-9d92-0a4bc71aef27"
      },
      "outputs": [
        {
          "output_type": "stream",
          "name": "stdout",
          "text": [
            "Number of training examples : 69 and each image is of shape : (69, 128, 2048, 1)\n",
            "Number of cross validation examples : 23 and each image is of shape : (23, 128, 2048, 1)\n",
            "Number of testing examples : 23 and each image is of shape : (23, 128, 2048, 1)\n"
          ]
        }
      ],
      "source": [
        "print(\"Number of training examples :\", trainX.shape[0], \"and each image is of shape :\",trainX.shape)\n",
        "print(\"Number of cross validation examples :\", cvX.shape[0], \"and each image is of shape :\",cvX.shape)\n",
        "print(\"Number of testing examples :\", testX.shape[0], \"and each image is of shape :\",testX.shape)"
      ]
    },
    {
      "cell_type": "markdown",
      "metadata": {
        "id": "KBDA9d4oqSKi"
      },
      "source": [
        "### VGG16 Model"
      ]
    },
    {
      "cell_type": "code",
      "execution_count": null,
      "metadata": {
        "id": "sv0mimScqSKi"
      },
      "outputs": [],
      "source": [
        "#initialize the initial learning rate, number of epochs to train for and batch size\n",
        "INIT_LR = 1e-2\n",
        "EPOCHS = 40\n",
        "batch_size = 64\n",
        "num_class = len(values)"
      ]
    },
    {
      "cell_type": "code",
      "execution_count": null,
      "metadata": {
        "id": "hCojCZYIqSKi"
      },
      "outputs": [],
      "source": [
        "from keras.models import Sequential\n",
        "from keras.layers import Dense, Activation\n",
        "from keras.layers import Dropout,Flatten\n",
        "from keras.layers import BatchNormalization\n",
        "from keras.layers import Conv2D, MaxPooling2D\n",
        "from sklearn.metrics import confusion_matrix"
      ]
    },
    {
      "cell_type": "code",
      "execution_count": null,
      "metadata": {
        "id": "8dFjIhuwqSKi",
        "colab": {
          "base_uri": "https://localhost:8080/"
        },
        "outputId": "ff47c694-b13a-4e7a-8359-8f037fb1b06f"
      },
      "outputs": [
        {
          "output_type": "stream",
          "name": "stdout",
          "text": [
            "Model: \"sequential_4\"\n",
            "_________________________________________________________________\n",
            " Layer (type)                Output Shape              Param #   \n",
            "=================================================================\n",
            " conv2d_24 (Conv2D)          (None, 128, 2048, 8)      40        \n",
            "                                                                 \n",
            " conv2d_25 (Conv2D)          (None, 128, 2048, 16)     528       \n",
            "                                                                 \n",
            " max_pooling2d_12 (MaxPooli  (None, 64, 1024, 16)      0         \n",
            " ng2D)                                                           \n",
            "                                                                 \n",
            " batch_normalization_12 (Ba  (None, 64, 1024, 16)      64        \n",
            " tchNormalization)                                               \n",
            "                                                                 \n",
            " dropout_16 (Dropout)        (None, 64, 1024, 16)      0         \n",
            "                                                                 \n",
            " conv2d_26 (Conv2D)          (None, 64, 1024, 32)      2080      \n",
            "                                                                 \n",
            " conv2d_27 (Conv2D)          (None, 64, 1024, 64)      8256      \n",
            "                                                                 \n",
            " max_pooling2d_13 (MaxPooli  (None, 32, 512, 64)       0         \n",
            " ng2D)                                                           \n",
            "                                                                 \n",
            " batch_normalization_13 (Ba  (None, 32, 512, 64)       256       \n",
            " tchNormalization)                                               \n",
            "                                                                 \n",
            " dropout_17 (Dropout)        (None, 32, 512, 64)       0         \n",
            "                                                                 \n",
            " conv2d_28 (Conv2D)          (None, 32, 512, 128)      32896     \n",
            "                                                                 \n",
            " conv2d_29 (Conv2D)          (None, 32, 512, 256)      131328    \n",
            "                                                                 \n",
            " max_pooling2d_14 (MaxPooli  (None, 16, 256, 256)      0         \n",
            " ng2D)                                                           \n",
            "                                                                 \n",
            " batch_normalization_14 (Ba  (None, 16, 256, 256)      1024      \n",
            " tchNormalization)                                               \n",
            "                                                                 \n",
            " dropout_18 (Dropout)        (None, 16, 256, 256)      0         \n",
            "                                                                 \n",
            " flatten_4 (Flatten)         (None, 1048576)           0         \n",
            "                                                                 \n",
            " dense_8 (Dense)             (None, 256)               268435712 \n",
            "                                                                 \n",
            " dropout_19 (Dropout)        (None, 256)               0         \n",
            "                                                                 \n",
            " dense_9 (Dense)             (None, 3)                 771       \n",
            "                                                                 \n",
            "=================================================================\n",
            "Total params: 268612955 (1.00 GB)\n",
            "Trainable params: 268612283 (1.00 GB)\n",
            "Non-trainable params: 672 (2.62 KB)\n",
            "_________________________________________________________________\n"
          ]
        }
      ],
      "source": [
        "model = Sequential()\n",
        "model.add(Conv2D(8, kernel_size=(2, 2),padding='same',activation='relu',input_shape=input_shape))\n",
        "model.add(Conv2D(16, kernel_size=(2, 2),padding='same',activation='relu'))\n",
        "model.add(MaxPooling2D(pool_size=(2, 2)))\n",
        "model.add(BatchNormalization())\n",
        "model.add(Dropout(0.5))\n",
        "model.add(Conv2D(32, kernel_size=(2, 2),padding='same',activation='relu'))\n",
        "model.add(Conv2D(64, kernel_size=(2, 2),padding='same',activation='relu'))\n",
        "model.add(MaxPooling2D(pool_size=(2, 2)))\n",
        "model.add(BatchNormalization())\n",
        "model.add(Dropout(0.5))\n",
        "model.add(Conv2D(128, kernel_size=(2, 2),padding='same',activation='relu'))\n",
        "model.add(Conv2D(256, kernel_size=(2, 2),padding='same',activation='relu'))\n",
        "model.add(MaxPooling2D(pool_size=(2, 2)))\n",
        "model.add(BatchNormalization())\n",
        "model.add(Dropout(0.5))\n",
        "model.add(Flatten())\n",
        "model.add(Dense(256, activation='relu'))\n",
        "model.add(Dropout(0.5))\n",
        "model.add(Dense(num_class, activation='softmax'))\n",
        "\n",
        "model.summary()"
      ]
    },
    {
      "cell_type": "code",
      "execution_count": null,
      "metadata": {
        "id": "IefmaQnXqSKj"
      },
      "outputs": [],
      "source": [
        "model.compile(optimizer='adam', loss='categorical_crossentropy', metrics=['accuracy'])"
      ]
    },
    {
      "cell_type": "code",
      "execution_count": null,
      "metadata": {
        "id": "GO8SbyaoqSKj"
      },
      "outputs": [],
      "source": [
        "from keras.callbacks import EarlyStopping, ModelCheckpoint\n",
        "es = EarlyStopping(monitor='val_loss', mode='min', verbose=1, patience=25, min_delta=0.0001)\n",
        "mc = ModelCheckpoint('best_model.keras', monitor='val_acc', verbose=1, save_best_only=True, mode='max')"
      ]
    },
    {
      "cell_type": "code",
      "execution_count": null,
      "metadata": {
        "id": "XJeCrjVWqSKj",
        "colab": {
          "base_uri": "https://localhost:8080/"
        },
        "outputId": "a52846e7-4fef-4dc2-c5f6-bd8b682f4277"
      },
      "outputs": [
        {
          "output_type": "stream",
          "name": "stdout",
          "text": [
            "Epoch 1/40\n",
            "2/2 [==============================] - ETA: 0s - loss: 1.1047 - accuracy: 0.2754"
          ]
        },
        {
          "output_type": "stream",
          "name": "stderr",
          "text": [
            "WARNING:tensorflow:Can save best model only with val_acc available, skipping.\n"
          ]
        },
        {
          "output_type": "stream",
          "name": "stdout",
          "text": [
            "\b\b\b\b\b\b\b\b\b\b\b\b\b\b\b\b\b\b\b\b\b\b\b\b\b\b\b\b\b\b\b\b\b\b\b\b\b\b\b\b\b\b\b\b\b\b\b\b\b\b\b\b\b\b\b\b\b\b\b\b\b\b\b\b\b\b\b\b\b\b\b\b\b\b\b\b\b\b\b\b\r2/2 [==============================] - 10s 2s/step - loss: 1.1047 - accuracy: 0.2754 - val_loss: 1.1170 - val_accuracy: 0.2609\n",
            "Epoch 2/40\n",
            "2/2 [==============================] - ETA: 0s - loss: 29.5960 - accuracy: 0.1884"
          ]
        },
        {
          "output_type": "stream",
          "name": "stderr",
          "text": [
            "WARNING:tensorflow:Can save best model only with val_acc available, skipping.\n"
          ]
        },
        {
          "output_type": "stream",
          "name": "stdout",
          "text": [
            "\b\b\b\b\b\b\b\b\b\b\b\b\b\b\b\b\b\b\b\b\b\b\b\b\b\b\b\b\b\b\b\b\b\b\b\b\b\b\b\b\b\b\b\b\b\b\b\b\b\b\b\b\b\b\b\b\b\b\b\b\b\b\b\b\b\b\b\b\b\b\b\b\b\b\b\b\b\b\b\b\b\r2/2 [==============================] - 8s 2s/step - loss: 29.5960 - accuracy: 0.1884 - val_loss: 1.5811 - val_accuracy: 0.2609\n",
            "Epoch 3/40\n",
            "2/2 [==============================] - ETA: 0s - loss: 1.9291 - accuracy: 0.6087"
          ]
        },
        {
          "output_type": "stream",
          "name": "stderr",
          "text": [
            "WARNING:tensorflow:Can save best model only with val_acc available, skipping.\n"
          ]
        },
        {
          "output_type": "stream",
          "name": "stdout",
          "text": [
            "\b\b\b\b\b\b\b\b\b\b\b\b\b\b\b\b\b\b\b\b\b\b\b\b\b\b\b\b\b\b\b\b\b\b\b\b\b\b\b\b\b\b\b\b\b\b\b\b\b\b\b\b\b\b\b\b\b\b\b\b\b\b\b\b\b\b\b\b\b\b\b\b\b\b\b\b\b\b\b\b\r2/2 [==============================] - 8s 2s/step - loss: 1.9291 - accuracy: 0.6087 - val_loss: 1.5526 - val_accuracy: 0.2609\n",
            "Epoch 4/40\n",
            "2/2 [==============================] - ETA: 0s - loss: 13.1216 - accuracy: 0.5652"
          ]
        },
        {
          "output_type": "stream",
          "name": "stderr",
          "text": [
            "WARNING:tensorflow:Can save best model only with val_acc available, skipping.\n"
          ]
        },
        {
          "output_type": "stream",
          "name": "stdout",
          "text": [
            "\b\b\b\b\b\b\b\b\b\b\b\b\b\b\b\b\b\b\b\b\b\b\b\b\b\b\b\b\b\b\b\b\b\b\b\b\b\b\b\b\b\b\b\b\b\b\b\b\b\b\b\b\b\b\b\b\b\b\b\b\b\b\b\b\b\b\b\b\b\b\b\b\b\b\b\b\b\b\b\b\b\r2/2 [==============================] - 8s 2s/step - loss: 13.1216 - accuracy: 0.5652 - val_loss: 2.4606 - val_accuracy: 0.2609\n",
            "Epoch 5/40\n",
            "2/2 [==============================] - ETA: 0s - loss: 7.5253 - accuracy: 0.2029"
          ]
        },
        {
          "output_type": "stream",
          "name": "stderr",
          "text": [
            "WARNING:tensorflow:Can save best model only with val_acc available, skipping.\n"
          ]
        },
        {
          "output_type": "stream",
          "name": "stdout",
          "text": [
            "\b\b\b\b\b\b\b\b\b\b\b\b\b\b\b\b\b\b\b\b\b\b\b\b\b\b\b\b\b\b\b\b\b\b\b\b\b\b\b\b\b\b\b\b\b\b\b\b\b\b\b\b\b\b\b\b\b\b\b\b\b\b\b\b\b\b\b\b\b\b\b\b\b\b\b\b\b\b\b\b\r2/2 [==============================] - 8s 2s/step - loss: 7.5253 - accuracy: 0.2029 - val_loss: 2.9707 - val_accuracy: 0.2609\n",
            "Epoch 6/40\n",
            "2/2 [==============================] - ETA: 0s - loss: 3.7792 - accuracy: 0.4203"
          ]
        },
        {
          "output_type": "stream",
          "name": "stderr",
          "text": [
            "WARNING:tensorflow:Can save best model only with val_acc available, skipping.\n"
          ]
        },
        {
          "output_type": "stream",
          "name": "stdout",
          "text": [
            "\b\b\b\b\b\b\b\b\b\b\b\b\b\b\b\b\b\b\b\b\b\b\b\b\b\b\b\b\b\b\b\b\b\b\b\b\b\b\b\b\b\b\b\b\b\b\b\b\b\b\b\b\b\b\b\b\b\b\b\b\b\b\b\b\b\b\b\b\b\b\b\b\b\b\b\b\b\b\b\b\r2/2 [==============================] - 8s 2s/step - loss: 3.7792 - accuracy: 0.4203 - val_loss: 4.0975 - val_accuracy: 0.2609\n",
            "Epoch 7/40\n",
            "2/2 [==============================] - ETA: 0s - loss: 4.2023 - accuracy: 0.5797"
          ]
        },
        {
          "output_type": "stream",
          "name": "stderr",
          "text": [
            "WARNING:tensorflow:Can save best model only with val_acc available, skipping.\n"
          ]
        },
        {
          "output_type": "stream",
          "name": "stdout",
          "text": [
            "\b\b\b\b\b\b\b\b\b\b\b\b\b\b\b\b\b\b\b\b\b\b\b\b\b\b\b\b\b\b\b\b\b\b\b\b\b\b\b\b\b\b\b\b\b\b\b\b\b\b\b\b\b\b\b\b\b\b\b\b\b\b\b\b\b\b\b\b\b\b\b\b\b\b\b\b\b\b\b\b\r2/2 [==============================] - 8s 2s/step - loss: 4.2023 - accuracy: 0.5797 - val_loss: 5.5447 - val_accuracy: 0.2609\n",
            "Epoch 8/40\n",
            "2/2 [==============================] - ETA: 0s - loss: 3.2892 - accuracy: 0.3913"
          ]
        },
        {
          "output_type": "stream",
          "name": "stderr",
          "text": [
            "WARNING:tensorflow:Can save best model only with val_acc available, skipping.\n"
          ]
        },
        {
          "output_type": "stream",
          "name": "stdout",
          "text": [
            "\b\b\b\b\b\b\b\b\b\b\b\b\b\b\b\b\b\b\b\b\b\b\b\b\b\b\b\b\b\b\b\b\b\b\b\b\b\b\b\b\b\b\b\b\b\b\b\b\b\b\b\b\b\b\b\b\b\b\b\b\b\b\b\b\b\b\b\b\b\b\b\b\b\b\b\b\b\b\b\b\r2/2 [==============================] - 8s 2s/step - loss: 3.2892 - accuracy: 0.3913 - val_loss: 5.8344 - val_accuracy: 0.2609\n",
            "Epoch 9/40\n",
            "2/2 [==============================] - ETA: 0s - loss: 3.9233 - accuracy: 0.2609"
          ]
        },
        {
          "output_type": "stream",
          "name": "stderr",
          "text": [
            "WARNING:tensorflow:Can save best model only with val_acc available, skipping.\n"
          ]
        },
        {
          "output_type": "stream",
          "name": "stdout",
          "text": [
            "\b\b\b\b\b\b\b\b\b\b\b\b\b\b\b\b\b\b\b\b\b\b\b\b\b\b\b\b\b\b\b\b\b\b\b\b\b\b\b\b\b\b\b\b\b\b\b\b\b\b\b\b\b\b\b\b\b\b\b\b\b\b\b\b\b\b\b\b\b\b\b\b\b\b\b\b\b\b\b\b\r2/2 [==============================] - 8s 2s/step - loss: 3.9233 - accuracy: 0.2609 - val_loss: 3.5837 - val_accuracy: 0.2609\n",
            "Epoch 10/40\n",
            "2/2 [==============================] - ETA: 0s - loss: 3.1143 - accuracy: 0.3188"
          ]
        },
        {
          "output_type": "stream",
          "name": "stderr",
          "text": [
            "WARNING:tensorflow:Can save best model only with val_acc available, skipping.\n"
          ]
        },
        {
          "output_type": "stream",
          "name": "stdout",
          "text": [
            "\b\b\b\b\b\b\b\b\b\b\b\b\b\b\b\b\b\b\b\b\b\b\b\b\b\b\b\b\b\b\b\b\b\b\b\b\b\b\b\b\b\b\b\b\b\b\b\b\b\b\b\b\b\b\b\b\b\b\b\b\b\b\b\b\b\b\b\b\b\b\b\b\b\b\b\b\b\b\b\b\r2/2 [==============================] - 8s 2s/step - loss: 3.1143 - accuracy: 0.3188 - val_loss: 2.4119 - val_accuracy: 0.2609\n",
            "Epoch 11/40\n",
            "2/2 [==============================] - ETA: 0s - loss: 5.1624 - accuracy: 0.2029"
          ]
        },
        {
          "output_type": "stream",
          "name": "stderr",
          "text": [
            "WARNING:tensorflow:Can save best model only with val_acc available, skipping.\n"
          ]
        },
        {
          "output_type": "stream",
          "name": "stdout",
          "text": [
            "\b\b\b\b\b\b\b\b\b\b\b\b\b\b\b\b\b\b\b\b\b\b\b\b\b\b\b\b\b\b\b\b\b\b\b\b\b\b\b\b\b\b\b\b\b\b\b\b\b\b\b\b\b\b\b\b\b\b\b\b\b\b\b\b\b\b\b\b\b\b\b\b\b\b\b\b\b\b\b\b\r2/2 [==============================] - 8s 2s/step - loss: 5.1624 - accuracy: 0.2029 - val_loss: 2.1165 - val_accuracy: 0.2609\n",
            "Epoch 12/40\n",
            "2/2 [==============================] - ETA: 0s - loss: 1.9940 - accuracy: 0.5942"
          ]
        },
        {
          "output_type": "stream",
          "name": "stderr",
          "text": [
            "WARNING:tensorflow:Can save best model only with val_acc available, skipping.\n"
          ]
        },
        {
          "output_type": "stream",
          "name": "stdout",
          "text": [
            "\b\b\b\b\b\b\b\b\b\b\b\b\b\b\b\b\b\b\b\b\b\b\b\b\b\b\b\b\b\b\b\b\b\b\b\b\b\b\b\b\b\b\b\b\b\b\b\b\b\b\b\b\b\b\b\b\b\b\b\b\b\b\b\b\b\b\b\b\b\b\b\b\b\b\b\b\b\b\b\b\r2/2 [==============================] - 8s 2s/step - loss: 1.9940 - accuracy: 0.5942 - val_loss: 1.8103 - val_accuracy: 0.2609\n",
            "Epoch 13/40\n",
            "2/2 [==============================] - ETA: 0s - loss: 2.0639 - accuracy: 0.5217"
          ]
        },
        {
          "output_type": "stream",
          "name": "stderr",
          "text": [
            "WARNING:tensorflow:Can save best model only with val_acc available, skipping.\n"
          ]
        },
        {
          "output_type": "stream",
          "name": "stdout",
          "text": [
            "\b\b\b\b\b\b\b\b\b\b\b\b\b\b\b\b\b\b\b\b\b\b\b\b\b\b\b\b\b\b\b\b\b\b\b\b\b\b\b\b\b\b\b\b\b\b\b\b\b\b\b\b\b\b\b\b\b\b\b\b\b\b\b\b\b\b\b\b\b\b\b\b\b\b\b\b\b\b\b\b\r2/2 [==============================] - 8s 2s/step - loss: 2.0639 - accuracy: 0.5217 - val_loss: 1.3131 - val_accuracy: 0.2609\n",
            "Epoch 14/40\n",
            "2/2 [==============================] - ETA: 0s - loss: 1.2518 - accuracy: 0.5507"
          ]
        },
        {
          "output_type": "stream",
          "name": "stderr",
          "text": [
            "WARNING:tensorflow:Can save best model only with val_acc available, skipping.\n"
          ]
        },
        {
          "output_type": "stream",
          "name": "stdout",
          "text": [
            "\b\b\b\b\b\b\b\b\b\b\b\b\b\b\b\b\b\b\b\b\b\b\b\b\b\b\b\b\b\b\b\b\b\b\b\b\b\b\b\b\b\b\b\b\b\b\b\b\b\b\b\b\b\b\b\b\b\b\b\b\b\b\b\b\b\b\b\b\b\b\b\b\b\b\b\b\b\b\b\b\r2/2 [==============================] - 8s 2s/step - loss: 1.2518 - accuracy: 0.5507 - val_loss: 1.0486 - val_accuracy: 0.2609\n",
            "Epoch 15/40\n",
            "2/2 [==============================] - ETA: 0s - loss: 4.2404 - accuracy: 0.5362"
          ]
        },
        {
          "output_type": "stream",
          "name": "stderr",
          "text": [
            "WARNING:tensorflow:Can save best model only with val_acc available, skipping.\n"
          ]
        },
        {
          "output_type": "stream",
          "name": "stdout",
          "text": [
            "\b\b\b\b\b\b\b\b\b\b\b\b\b\b\b\b\b\b\b\b\b\b\b\b\b\b\b\b\b\b\b\b\b\b\b\b\b\b\b\b\b\b\b\b\b\b\b\b\b\b\b\b\b\b\b\b\b\b\b\b\b\b\b\b\b\b\b\b\b\b\b\b\b\b\b\b\b\b\b\b\r2/2 [==============================] - 8s 2s/step - loss: 4.2404 - accuracy: 0.5362 - val_loss: 1.3326 - val_accuracy: 0.2609\n",
            "Epoch 16/40\n",
            "2/2 [==============================] - ETA: 0s - loss: 1.3829 - accuracy: 0.4928"
          ]
        },
        {
          "output_type": "stream",
          "name": "stderr",
          "text": [
            "WARNING:tensorflow:Can save best model only with val_acc available, skipping.\n"
          ]
        },
        {
          "output_type": "stream",
          "name": "stdout",
          "text": [
            "\b\b\b\b\b\b\b\b\b\b\b\b\b\b\b\b\b\b\b\b\b\b\b\b\b\b\b\b\b\b\b\b\b\b\b\b\b\b\b\b\b\b\b\b\b\b\b\b\b\b\b\b\b\b\b\b\b\b\b\b\b\b\b\b\b\b\b\b\b\b\b\b\b\b\b\b\b\b\b\b\r2/2 [==============================] - 8s 2s/step - loss: 1.3829 - accuracy: 0.4928 - val_loss: 1.7745 - val_accuracy: 0.2609\n",
            "Epoch 17/40\n",
            "2/2 [==============================] - ETA: 0s - loss: 1.6726 - accuracy: 0.2754"
          ]
        },
        {
          "output_type": "stream",
          "name": "stderr",
          "text": [
            "WARNING:tensorflow:Can save best model only with val_acc available, skipping.\n"
          ]
        },
        {
          "output_type": "stream",
          "name": "stdout",
          "text": [
            "\b\b\b\b\b\b\b\b\b\b\b\b\b\b\b\b\b\b\b\b\b\b\b\b\b\b\b\b\b\b\b\b\b\b\b\b\b\b\b\b\b\b\b\b\b\b\b\b\b\b\b\b\b\b\b\b\b\b\b\b\b\b\b\b\b\b\b\b\b\b\b\b\b\b\b\b\b\b\b\b\r2/2 [==============================] - 8s 2s/step - loss: 1.6726 - accuracy: 0.2754 - val_loss: 1.7716 - val_accuracy: 0.2609\n",
            "Epoch 18/40\n",
            "2/2 [==============================] - ETA: 0s - loss: 1.3189 - accuracy: 0.4493"
          ]
        },
        {
          "output_type": "stream",
          "name": "stderr",
          "text": [
            "WARNING:tensorflow:Can save best model only with val_acc available, skipping.\n"
          ]
        },
        {
          "output_type": "stream",
          "name": "stdout",
          "text": [
            "\b\b\b\b\b\b\b\b\b\b\b\b\b\b\b\b\b\b\b\b\b\b\b\b\b\b\b\b\b\b\b\b\b\b\b\b\b\b\b\b\b\b\b\b\b\b\b\b\b\b\b\b\b\b\b\b\b\b\b\b\b\b\b\b\b\b\b\b\b\b\b\b\b\b\b\b\b\b\b\b\r2/2 [==============================] - 8s 2s/step - loss: 1.3189 - accuracy: 0.4493 - val_loss: 1.8567 - val_accuracy: 0.2609\n",
            "Epoch 19/40\n",
            "2/2 [==============================] - ETA: 0s - loss: 1.0515 - accuracy: 0.5217"
          ]
        },
        {
          "output_type": "stream",
          "name": "stderr",
          "text": [
            "WARNING:tensorflow:Can save best model only with val_acc available, skipping.\n"
          ]
        },
        {
          "output_type": "stream",
          "name": "stdout",
          "text": [
            "\b\b\b\b\b\b\b\b\b\b\b\b\b\b\b\b\b\b\b\b\b\b\b\b\b\b\b\b\b\b\b\b\b\b\b\b\b\b\b\b\b\b\b\b\b\b\b\b\b\b\b\b\b\b\b\b\b\b\b\b\b\b\b\b\b\b\b\b\b\b\b\b\b\b\b\b\b\b\b\b\r2/2 [==============================] - 8s 2s/step - loss: 1.0515 - accuracy: 0.5217 - val_loss: 1.8844 - val_accuracy: 0.2609\n",
            "Epoch 20/40\n",
            "2/2 [==============================] - ETA: 0s - loss: 1.2319 - accuracy: 0.4348"
          ]
        },
        {
          "output_type": "stream",
          "name": "stderr",
          "text": [
            "WARNING:tensorflow:Can save best model only with val_acc available, skipping.\n"
          ]
        },
        {
          "output_type": "stream",
          "name": "stdout",
          "text": [
            "\b\b\b\b\b\b\b\b\b\b\b\b\b\b\b\b\b\b\b\b\b\b\b\b\b\b\b\b\b\b\b\b\b\b\b\b\b\b\b\b\b\b\b\b\b\b\b\b\b\b\b\b\b\b\b\b\b\b\b\b\b\b\b\b\b\b\b\b\b\b\b\b\b\b\b\b\b\b\b\b\r2/2 [==============================] - 8s 2s/step - loss: 1.2319 - accuracy: 0.4348 - val_loss: 1.8624 - val_accuracy: 0.2609\n",
            "Epoch 21/40\n",
            "2/2 [==============================] - ETA: 0s - loss: 1.3517 - accuracy: 0.5072"
          ]
        },
        {
          "output_type": "stream",
          "name": "stderr",
          "text": [
            "WARNING:tensorflow:Can save best model only with val_acc available, skipping.\n"
          ]
        },
        {
          "output_type": "stream",
          "name": "stdout",
          "text": [
            "\b\b\b\b\b\b\b\b\b\b\b\b\b\b\b\b\b\b\b\b\b\b\b\b\b\b\b\b\b\b\b\b\b\b\b\b\b\b\b\b\b\b\b\b\b\b\b\b\b\b\b\b\b\b\b\b\b\b\b\b\b\b\b\b\b\b\b\b\b\b\b\b\b\b\b\b\b\b\b\b\r2/2 [==============================] - 8s 2s/step - loss: 1.3517 - accuracy: 0.5072 - val_loss: 1.7535 - val_accuracy: 0.2609\n",
            "Epoch 22/40\n",
            "2/2 [==============================] - ETA: 0s - loss: 1.1734 - accuracy: 0.5507"
          ]
        },
        {
          "output_type": "stream",
          "name": "stderr",
          "text": [
            "WARNING:tensorflow:Can save best model only with val_acc available, skipping.\n"
          ]
        },
        {
          "output_type": "stream",
          "name": "stdout",
          "text": [
            "\b\b\b\b\b\b\b\b\b\b\b\b\b\b\b\b\b\b\b\b\b\b\b\b\b\b\b\b\b\b\b\b\b\b\b\b\b\b\b\b\b\b\b\b\b\b\b\b\b\b\b\b\b\b\b\b\b\b\b\b\b\b\b\b\b\b\b\b\b\b\b\b\b\b\b\b\b\b\b\b\r2/2 [==============================] - 8s 2s/step - loss: 1.1734 - accuracy: 0.5507 - val_loss: 1.5999 - val_accuracy: 0.2609\n",
            "Epoch 23/40\n",
            "2/2 [==============================] - ETA: 0s - loss: 1.0315 - accuracy: 0.5507"
          ]
        },
        {
          "output_type": "stream",
          "name": "stderr",
          "text": [
            "WARNING:tensorflow:Can save best model only with val_acc available, skipping.\n"
          ]
        },
        {
          "output_type": "stream",
          "name": "stdout",
          "text": [
            "\b\b\b\b\b\b\b\b\b\b\b\b\b\b\b\b\b\b\b\b\b\b\b\b\b\b\b\b\b\b\b\b\b\b\b\b\b\b\b\b\b\b\b\b\b\b\b\b\b\b\b\b\b\b\b\b\b\b\b\b\b\b\b\b\b\b\b\b\b\b\b\b\b\b\b\b\b\b\b\b\r2/2 [==============================] - 8s 2s/step - loss: 1.0315 - accuracy: 0.5507 - val_loss: 1.4321 - val_accuracy: 0.2609\n",
            "Epoch 24/40\n",
            "2/2 [==============================] - ETA: 0s - loss: 1.0252 - accuracy: 0.5217"
          ]
        },
        {
          "output_type": "stream",
          "name": "stderr",
          "text": [
            "WARNING:tensorflow:Can save best model only with val_acc available, skipping.\n"
          ]
        },
        {
          "output_type": "stream",
          "name": "stdout",
          "text": [
            "\b\b\b\b\b\b\b\b\b\b\b\b\b\b\b\b\b\b\b\b\b\b\b\b\b\b\b\b\b\b\b\b\b\b\b\b\b\b\b\b\b\b\b\b\b\b\b\b\b\b\b\b\b\b\b\b\b\b\b\b\b\b\b\b\b\b\b\b\b\b\b\b\b\b\b\b\b\b\b\b\r2/2 [==============================] - 8s 2s/step - loss: 1.0252 - accuracy: 0.5217 - val_loss: 1.2920 - val_accuracy: 0.2609\n",
            "Epoch 25/40\n",
            "2/2 [==============================] - ETA: 0s - loss: 1.0756 - accuracy: 0.5072"
          ]
        },
        {
          "output_type": "stream",
          "name": "stderr",
          "text": [
            "WARNING:tensorflow:Can save best model only with val_acc available, skipping.\n"
          ]
        },
        {
          "output_type": "stream",
          "name": "stdout",
          "text": [
            "\b\b\b\b\b\b\b\b\b\b\b\b\b\b\b\b\b\b\b\b\b\b\b\b\b\b\b\b\b\b\b\b\b\b\b\b\b\b\b\b\b\b\b\b\b\b\b\b\b\b\b\b\b\b\b\b\b\b\b\b\b\b\b\b\b\b\b\b\b\b\b\b\b\b\b\b\b\b\b\b\r2/2 [==============================] - 8s 2s/step - loss: 1.0756 - accuracy: 0.5072 - val_loss: 1.2754 - val_accuracy: 0.2609\n",
            "Epoch 26/40\n",
            "2/2 [==============================] - ETA: 0s - loss: 1.0963 - accuracy: 0.4058"
          ]
        },
        {
          "output_type": "stream",
          "name": "stderr",
          "text": [
            "WARNING:tensorflow:Can save best model only with val_acc available, skipping.\n"
          ]
        },
        {
          "output_type": "stream",
          "name": "stdout",
          "text": [
            "\b\b\b\b\b\b\b\b\b\b\b\b\b\b\b\b\b\b\b\b\b\b\b\b\b\b\b\b\b\b\b\b\b\b\b\b\b\b\b\b\b\b\b\b\b\b\b\b\b\b\b\b\b\b\b\b\b\b\b\b\b\b\b\b\b\b\b\b\b\b\b\b\b\b\b\b\b\b\b\b\r2/2 [==============================] - 8s 2s/step - loss: 1.0963 - accuracy: 0.4058 - val_loss: 1.3252 - val_accuracy: 0.2609\n",
            "Epoch 27/40\n",
            "2/2 [==============================] - ETA: 0s - loss: 1.0786 - accuracy: 0.4638"
          ]
        },
        {
          "output_type": "stream",
          "name": "stderr",
          "text": [
            "WARNING:tensorflow:Can save best model only with val_acc available, skipping.\n"
          ]
        },
        {
          "output_type": "stream",
          "name": "stdout",
          "text": [
            "\b\b\b\b\b\b\b\b\b\b\b\b\b\b\b\b\b\b\b\b\b\b\b\b\b\b\b\b\b\b\b\b\b\b\b\b\b\b\b\b\b\b\b\b\b\b\b\b\b\b\b\b\b\b\b\b\b\b\b\b\b\b\b\b\b\b\b\b\b\b\b\b\b\b\b\b\b\b\b\b\r2/2 [==============================] - 8s 2s/step - loss: 1.0786 - accuracy: 0.4638 - val_loss: 1.3453 - val_accuracy: 0.2609\n",
            "Epoch 28/40\n",
            "2/2 [==============================] - ETA: 0s - loss: 1.0629 - accuracy: 0.3913"
          ]
        },
        {
          "output_type": "stream",
          "name": "stderr",
          "text": [
            "WARNING:tensorflow:Can save best model only with val_acc available, skipping.\n"
          ]
        },
        {
          "output_type": "stream",
          "name": "stdout",
          "text": [
            "\b\b\b\b\b\b\b\b\b\b\b\b\b\b\b\b\b\b\b\b\b\b\b\b\b\b\b\b\b\b\b\b\b\b\b\b\b\b\b\b\b\b\b\b\b\b\b\b\b\b\b\b\b\b\b\b\b\b\b\b\b\b\b\b\b\b\b\b\b\b\b\b\b\b\b\b\b\b\b\b\r2/2 [==============================] - 8s 2s/step - loss: 1.0629 - accuracy: 0.3913 - val_loss: 1.3069 - val_accuracy: 0.2609\n",
            "Epoch 29/40\n",
            "2/2 [==============================] - ETA: 0s - loss: 1.0145 - accuracy: 0.5362"
          ]
        },
        {
          "output_type": "stream",
          "name": "stderr",
          "text": [
            "WARNING:tensorflow:Can save best model only with val_acc available, skipping.\n"
          ]
        },
        {
          "output_type": "stream",
          "name": "stdout",
          "text": [
            "\b\b\b\b\b\b\b\b\b\b\b\b\b\b\b\b\b\b\b\b\b\b\b\b\b\b\b\b\b\b\b\b\b\b\b\b\b\b\b\b\b\b\b\b\b\b\b\b\b\b\b\b\b\b\b\b\b\b\b\b\b\b\b\b\b\b\b\b\b\b\b\b\b\b\b\b\b\b\b\b\r2/2 [==============================] - 8s 2s/step - loss: 1.0145 - accuracy: 0.5362 - val_loss: 1.2506 - val_accuracy: 0.2609\n",
            "Epoch 30/40\n",
            "2/2 [==============================] - ETA: 0s - loss: 1.1260 - accuracy: 0.5072"
          ]
        },
        {
          "output_type": "stream",
          "name": "stderr",
          "text": [
            "WARNING:tensorflow:Can save best model only with val_acc available, skipping.\n"
          ]
        },
        {
          "output_type": "stream",
          "name": "stdout",
          "text": [
            "\b\b\b\b\b\b\b\b\b\b\b\b\b\b\b\b\b\b\b\b\b\b\b\b\b\b\b\b\b\b\b\b\b\b\b\b\b\b\b\b\b\b\b\b\b\b\b\b\b\b\b\b\b\b\b\b\b\b\b\b\b\b\b\b\b\b\b\b\b\b\b\b\b\b\b\b\b\b\b\b\r2/2 [==============================] - 8s 2s/step - loss: 1.1260 - accuracy: 0.5072 - val_loss: 1.2264 - val_accuracy: 0.2609\n",
            "Epoch 31/40\n",
            "2/2 [==============================] - ETA: 0s - loss: 1.1077 - accuracy: 0.5362"
          ]
        },
        {
          "output_type": "stream",
          "name": "stderr",
          "text": [
            "WARNING:tensorflow:Can save best model only with val_acc available, skipping.\n"
          ]
        },
        {
          "output_type": "stream",
          "name": "stdout",
          "text": [
            "\b\b\b\b\b\b\b\b\b\b\b\b\b\b\b\b\b\b\b\b\b\b\b\b\b\b\b\b\b\b\b\b\b\b\b\b\b\b\b\b\b\b\b\b\b\b\b\b\b\b\b\b\b\b\b\b\b\b\b\b\b\b\b\b\b\b\b\b\b\b\b\b\b\b\b\b\b\b\b\b\r2/2 [==============================] - 8s 2s/step - loss: 1.1077 - accuracy: 0.5362 - val_loss: 1.2769 - val_accuracy: 0.2609\n",
            "Epoch 32/40\n",
            "2/2 [==============================] - ETA: 0s - loss: 1.1093 - accuracy: 0.5362"
          ]
        },
        {
          "output_type": "stream",
          "name": "stderr",
          "text": [
            "WARNING:tensorflow:Can save best model only with val_acc available, skipping.\n"
          ]
        },
        {
          "output_type": "stream",
          "name": "stdout",
          "text": [
            "\b\b\b\b\b\b\b\b\b\b\b\b\b\b\b\b\b\b\b\b\b\b\b\b\b\b\b\b\b\b\b\b\b\b\b\b\b\b\b\b\b\b\b\b\b\b\b\b\b\b\b\b\b\b\b\b\b\b\b\b\b\b\b\b\b\b\b\b\b\b\b\b\b\b\b\b\b\b\b\b\r2/2 [==============================] - 8s 2s/step - loss: 1.1093 - accuracy: 0.5362 - val_loss: 1.3831 - val_accuracy: 0.2609\n",
            "Epoch 33/40\n",
            "2/2 [==============================] - ETA: 0s - loss: 1.2180 - accuracy: 0.4928"
          ]
        },
        {
          "output_type": "stream",
          "name": "stderr",
          "text": [
            "WARNING:tensorflow:Can save best model only with val_acc available, skipping.\n"
          ]
        },
        {
          "output_type": "stream",
          "name": "stdout",
          "text": [
            "\b\b\b\b\b\b\b\b\b\b\b\b\b\b\b\b\b\b\b\b\b\b\b\b\b\b\b\b\b\b\b\b\b\b\b\b\b\b\b\b\b\b\b\b\b\b\b\b\b\b\b\b\b\b\b\b\b\b\b\b\b\b\b\b\b\b\b\b\b\b\b\b\b\b\b\b\b\b\b\b\r2/2 [==============================] - 8s 2s/step - loss: 1.2180 - accuracy: 0.4928 - val_loss: 1.5501 - val_accuracy: 0.2609\n",
            "Epoch 34/40\n",
            "2/2 [==============================] - ETA: 0s - loss: 0.9990 - accuracy: 0.5362"
          ]
        },
        {
          "output_type": "stream",
          "name": "stderr",
          "text": [
            "WARNING:tensorflow:Can save best model only with val_acc available, skipping.\n"
          ]
        },
        {
          "output_type": "stream",
          "name": "stdout",
          "text": [
            "\b\b\b\b\b\b\b\b\b\b\b\b\b\b\b\b\b\b\b\b\b\b\b\b\b\b\b\b\b\b\b\b\b\b\b\b\b\b\b\b\b\b\b\b\b\b\b\b\b\b\b\b\b\b\b\b\b\b\b\b\b\b\b\b\b\b\b\b\b\b\b\b\b\b\b\b\b\b\b\b\r2/2 [==============================] - 8s 2s/step - loss: 0.9990 - accuracy: 0.5362 - val_loss: 1.7427 - val_accuracy: 0.2609\n",
            "Epoch 35/40\n",
            "2/2 [==============================] - ETA: 0s - loss: 0.9947 - accuracy: 0.5652"
          ]
        },
        {
          "output_type": "stream",
          "name": "stderr",
          "text": [
            "WARNING:tensorflow:Can save best model only with val_acc available, skipping.\n"
          ]
        },
        {
          "output_type": "stream",
          "name": "stdout",
          "text": [
            "\b\b\b\b\b\b\b\b\b\b\b\b\b\b\b\b\b\b\b\b\b\b\b\b\b\b\b\b\b\b\b\b\b\b\b\b\b\b\b\b\b\b\b\b\b\b\b\b\b\b\b\b\b\b\b\b\b\b\b\b\b\b\b\b\b\b\b\b\b\b\b\b\b\b\b\b\b\b\b\b\r2/2 [==============================] - 8s 2s/step - loss: 0.9947 - accuracy: 0.5652 - val_loss: 1.8943 - val_accuracy: 0.2609\n",
            "Epoch 36/40\n",
            "2/2 [==============================] - ETA: 0s - loss: 1.0673 - accuracy: 0.5652"
          ]
        },
        {
          "output_type": "stream",
          "name": "stderr",
          "text": [
            "WARNING:tensorflow:Can save best model only with val_acc available, skipping.\n"
          ]
        },
        {
          "output_type": "stream",
          "name": "stdout",
          "text": [
            "\b\b\b\b\b\b\b\b\b\b\b\b\b\b\b\b\b\b\b\b\b\b\b\b\b\b\b\b\b\b\b\b\b\b\b\b\b\b\b\b\b\b\b\b\b\b\b\b\b\b\b\b\b\b\b\b\b\b\b\b\b\b\b\b\b\b\b\b\b\b\b\b\b\b\b\b\b\b\b\b\r2/2 [==============================] - 8s 2s/step - loss: 1.0673 - accuracy: 0.5652 - val_loss: 1.9857 - val_accuracy: 0.2609\n",
            "Epoch 37/40\n",
            "2/2 [==============================] - ETA: 0s - loss: 1.0583 - accuracy: 0.5507"
          ]
        },
        {
          "output_type": "stream",
          "name": "stderr",
          "text": [
            "WARNING:tensorflow:Can save best model only with val_acc available, skipping.\n"
          ]
        },
        {
          "output_type": "stream",
          "name": "stdout",
          "text": [
            "\b\b\b\b\b\b\b\b\b\b\b\b\b\b\b\b\b\b\b\b\b\b\b\b\b\b\b\b\b\b\b\b\b\b\b\b\b\b\b\b\b\b\b\b\b\b\b\b\b\b\b\b\b\b\b\b\b\b\b\b\b\b\b\b\b\b\b\b\b\b\b\b\b\b\b\b\b\b\b\b\r2/2 [==============================] - 8s 2s/step - loss: 1.0583 - accuracy: 0.5507 - val_loss: 1.9949 - val_accuracy: 0.2609\n",
            "Epoch 38/40\n",
            "2/2 [==============================] - ETA: 0s - loss: 1.0474 - accuracy: 0.5507"
          ]
        },
        {
          "output_type": "stream",
          "name": "stderr",
          "text": [
            "WARNING:tensorflow:Can save best model only with val_acc available, skipping.\n"
          ]
        },
        {
          "output_type": "stream",
          "name": "stdout",
          "text": [
            "\b\b\b\b\b\b\b\b\b\b\b\b\b\b\b\b\b\b\b\b\b\b\b\b\b\b\b\b\b\b\b\b\b\b\b\b\b\b\b\b\b\b\b\b\b\b\b\b\b\b\b\b\b\b\b\b\b\b\b\b\b\b\b\b\b\b\b\b\b\b\b\b\b\b\b\b\b\b\b\b\r2/2 [==============================] - 8s 2s/step - loss: 1.0474 - accuracy: 0.5507 - val_loss: 1.9867 - val_accuracy: 0.2609\n",
            "Epoch 39/40\n",
            "2/2 [==============================] - ETA: 0s - loss: 1.0237 - accuracy: 0.5362"
          ]
        },
        {
          "output_type": "stream",
          "name": "stderr",
          "text": [
            "WARNING:tensorflow:Can save best model only with val_acc available, skipping.\n"
          ]
        },
        {
          "output_type": "stream",
          "name": "stdout",
          "text": [
            "\b\b\b\b\b\b\b\b\b\b\b\b\b\b\b\b\b\b\b\b\b\b\b\b\b\b\b\b\b\b\b\b\b\b\b\b\b\b\b\b\b\b\b\b\b\b\b\b\b\b\b\b\b\b\b\b\b\b\b\b\b\b\b\b\b\b\b\b\b\b\b\b\b\b\b\b\b\b\b\b\r2/2 [==============================] - 8s 2s/step - loss: 1.0237 - accuracy: 0.5362 - val_loss: 1.9388 - val_accuracy: 0.2609\n",
            "Epoch 39: early stopping\n"
          ]
        }
      ],
      "source": [
        "history = model.fit(trainX, trainY, batch_size=batch_size, epochs=EPOCHS, verbose=1, callbacks=[es,mc],validation_data=(cvX, cvY))"
      ]
    },
    {
      "cell_type": "markdown",
      "source": [
        "# Training"
      ],
      "metadata": {
        "id": "NoARYjhHCeIK"
      }
    },
    {
      "cell_type": "code",
      "execution_count": null,
      "metadata": {
        "id": "H0Y9ol6fqSKj",
        "colab": {
          "base_uri": "https://localhost:8080/",
          "height": 494
        },
        "outputId": "ab9ae101-2281-4082-a34a-5cb36add0486"
      },
      "outputs": [
        {
          "output_type": "execute_result",
          "data": {
            "text/plain": [
              "<matplotlib.legend.Legend at 0x7ac3f4a71180>"
            ]
          },
          "metadata": {},
          "execution_count": 181
        },
        {
          "output_type": "display_data",
          "data": {
            "text/plain": [
              "<Figure size 640x480 with 1 Axes>"
            ],
            "image/png": "[encoded data removed]"
          },
          "metadata": {}
        }
      ],
      "source": [
        "# plot the training loss\n",
        "N = 39\n",
        "plt.style.use(\"ggplot\")\n",
        "plt.figure()\n",
        "plt.plot(np.arange(0, N), history.history[\"loss\"], label=\"train_loss\")\n",
        "plt.plot(np.arange(0, N), history.history[\"val_loss\"], label=\"val_loss\")\n",
        "plt.title(\"Train/CV Loss on Speech-To-Text Dataset\")\n",
        "plt.xlabel(\"Epoch #\")\n",
        "plt.ylabel(\"Loss\")\n",
        "plt.legend(loc=\"lower left\")"
      ]
    },
    {
      "cell_type": "code",
      "execution_count": null,
      "metadata": {
        "id": "yTghhu9BqSKj",
        "colab": {
          "base_uri": "https://localhost:8080/",
          "height": 494
        },
        "outputId": "af4cb1b6-f696-4a31-bbb0-1f3f9c3a598f"
      },
      "outputs": [
        {
          "output_type": "execute_result",
          "data": {
            "text/plain": [
              "<matplotlib.legend.Legend at 0x7ac204544a00>"
            ]
          },
          "metadata": {},
          "execution_count": 182
        },
        {
          "output_type": "display_data",
          "data": {
            "text/plain": [
              "<Figure size 640x480 with 1 Axes>"
            ],
            "image/png": "[encoded data removed]"
          },
          "metadata": {}
        }
      ],
      "source": [
        "# plot the training accuracy\n",
        "N = 39\n",
        "#plt.style.use(\"ggplot\")\n",
        "plt.figure()\n",
        "plt.plot(np.arange(0, N), history.history[\"accuracy\"], label=\"train_acc\")\n",
        "plt.plot(np.arange(0, N), history.history[\"val_accuracy\"], label=\"val_acc\")\n",
        "plt.title(\"Train and CV Accuracy on Speech-To-Text Dataset\")\n",
        "plt.xlabel(\"Epoch #\")\n",
        "plt.ylabel(\"Accuracy\")\n",
        "plt.legend(loc=\"lower left\")"
      ]
    },
    {
      "cell_type": "code",
      "execution_count": null,
      "metadata": {
        "id": "XtzHs2IyqSKj"
      },
      "outputs": [],
      "source": [
        "best_acc = max(history.history[\"accuracy\"])*100\n",
        "best_val_acc = max(history.history[\"val_accuracy\"])*100"
      ]
    },
    {
      "cell_type": "code",
      "execution_count": null,
      "metadata": {
        "id": "iuZ3EN8hqSKj",
        "colab": {
          "base_uri": "https://localhost:8080/"
        },
        "outputId": "763d36c4-9622-4fee-8991-5676b3d4d879"
      },
      "outputs": [
        {
          "output_type": "stream",
          "name": "stderr",
          "text": [
            "WARNING:tensorflow:5 out of the last 5 calls to <function Model.make_predict_function.<locals>.predict_function at 0x7ac20a885a20> triggered tf.function retracing. Tracing is expensive and the excessive number of tracings could be due to (1) creating @tf.function repeatedly in a loop, (2) passing tensors with different shapes, (3) passing Python objects instead of tensors. For (1), please define your @tf.function outside of the loop. For (2), @tf.function has reduce_retracing=True option that can avoid unnecessary retracing. For (3), please refer to https://www.tensorflow.org/guide/function#controlling_retracing and https://www.tensorflow.org/api_docs/python/tf/function for  more details.\n"
          ]
        },
        {
          "output_type": "stream",
          "name": "stdout",
          "text": [
            "1/1 [==============================] - 1s 593ms/step\n"
          ]
        }
      ],
      "source": [
        "# make predictions on the testing set\n",
        "predIdxs = model.predict(testX, batch_size=batch_size)"
      ]
    },
    {
      "cell_type": "code",
      "execution_count": null,
      "metadata": {
        "id": "KbOIhbyIqSKn"
      },
      "outputs": [],
      "source": [
        "# for each image in the testing set we need to find the index of the\n",
        "# label with corresponding largest predicted probability\n",
        "predIdxs = np.argmax(predIdxs, axis=1)"
      ]
    },
    {
      "cell_type": "code",
      "execution_count": null,
      "metadata": {
        "id": "VXTt88shqSKn"
      },
      "outputs": [],
      "source": [
        "def plot_Confusion_Matrix(actual_labels,predict_labels,title):\n",
        "    \"\"\"This function plot the confusion matrix\"\"\"\n",
        "    # Reference : https://seaborn.pydata.org/generated/seaborn.heatmap.html\n",
        "    cm = confusion_matrix(actual_labels, predict_labels)\n",
        "    classNames = values\n",
        "    cm_data = pd.DataFrame(cm,index = classNames,\n",
        "                  columns = classNames)\n",
        "    plt.figure(figsize = (8,8))\n",
        "    sns.heatmap(cm_data, annot=True,fmt=\"d\")\n",
        "    plt.title(title)\n",
        "    plt.ylabel('Actual label')\n",
        "    plt.xlabel('Predicted label')\n",
        "    plt.show()\n",
        "    return cm"
      ]
    },
    {
      "cell_type": "code",
      "execution_count": null,
      "metadata": {
        "id": "UUAdzCpoqSKn",
        "colab": {
          "base_uri": "https://localhost:8080/",
          "height": 723
        },
        "outputId": "4caa5592-bb06-4748-b53b-1342fd0cbb64"
      },
      "outputs": [
        {
          "output_type": "display_data",
          "data": {
            "text/plain": [
              "<Figure size 800x800 with 2 Axes>"
            ],
            "image/png": "[encoded data removed]"
          },
          "metadata": {}
        }
      ],
      "source": [
        "import pandas as pd\n",
        "import seaborn as sns\n",
        "from sklearn.metrics import confusion_matrix\n",
        "\n",
        "cm = plot_Confusion_Matrix(testY.argmax(axis=1), predIdxs,\"Confusion Matrix\")"
      ]
    },
    {
      "cell_type": "code",
      "execution_count": null,
      "metadata": {
        "id": "JIET5jatqSKo"
      },
      "outputs": [],
      "source": [
        "tot = cm[0][0]\n",
        "for i in range(1,len(values)):\n",
        "    tot+= cm[i][i]\n",
        "test = round((tot/testX.shape[0])*100,2)"
      ]
    },
    {
      "cell_type": "markdown",
      "metadata": {
        "id": "xErA3kyaqSKo"
      },
      "source": [
        "## Results"
      ]
    },
    {
      "cell_type": "code",
      "execution_count": null,
      "metadata": {
        "id": "j4wGO1_CqSKo",
        "colab": {
          "base_uri": "https://localhost:8080/"
        },
        "outputId": "02ed9131-914a-434e-8cfc-cfe0afa997da"
      },
      "outputs": [
        {
          "output_type": "stream",
          "name": "stdout",
          "text": [
            "+-------------------------------------------+\n",
            "|               Model Results               |\n",
            "+------------------+-------------+----------+\n",
            "|       Mode       | Sample size | Accuracy |\n",
            "+------------------+-------------+----------+\n",
            "|      Train       |      69     |  60.87   |\n",
            "| Cross-Validation |      23     |  26.09   |\n",
            "|       Test       |      23     |  26.09   |\n",
            "+------------------+-------------+----------+\n"
          ]
        }
      ],
      "source": [
        "from prettytable import PrettyTable\n",
        "ptable = PrettyTable()\n",
        "ptable.title = \" Model Results \"\n",
        "ptable.field_names = [\"Mode\",'Sample size','Accuracy']\n",
        "ptable.add_row([\"Train\",trainX.shape[0], round(best_acc,2)])\n",
        "ptable.add_row([\"Cross-Validation\",cvX.shape[0],round(best_val_acc,2)])\n",
        "ptable.add_row([\"Test\",testX.shape[0],test])\n",
        "print(ptable)"
      ]
    }
  ],
  "metadata": {
    "kernelspec": {
      "display_name": "Python 3",
      "name": "python3"
    },
    "language_info": {
      "codemirror_mode": {
        "name": "ipython",
        "version": 3
      },
      "file_extension": ".py",
      "mimetype": "text/x-python",
      "name": "python",
      "nbconvert_exporter": "python",
      "pygments_lexer": "ipython3",
      "version": "3.11.0"
    },
    "colab": {
      "provenance": [],
      "gpuType": "V28"
    },
    "accelerator": "TPU"
  },
  "nbformat": 4,
  "nbformat_minor": 0
}